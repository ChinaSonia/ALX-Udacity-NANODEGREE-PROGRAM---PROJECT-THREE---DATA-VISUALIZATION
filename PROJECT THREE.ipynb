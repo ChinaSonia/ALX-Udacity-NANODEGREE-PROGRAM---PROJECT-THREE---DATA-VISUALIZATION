{
 "cells": [
  {
   "cell_type": "markdown",
   "id": "bad9b454",
   "metadata": {},
   "source": [
    "# GATHER"
   ]
  },
  {
   "cell_type": "markdown",
   "id": "d6a9bc79",
   "metadata": {},
   "source": [
    "First, i import the necessary libraries that i would require for this analysis."
   ]
  },
  {
   "cell_type": "code",
   "execution_count": 1,
   "id": "b5130813",
   "metadata": {},
   "outputs": [],
   "source": [
    "import warnings\n",
    "warnings.filterwarnings('ignore')"
   ]
  },
  {
   "cell_type": "code",
   "execution_count": 2,
   "id": "cbb9843a",
   "metadata": {},
   "outputs": [],
   "source": [
    "import pandas as pd\n",
    "import numpy as np; np.random.seed(42)\n",
    "import os\n",
    "import matplotlib.pyplot as plt\n",
    "%matplotlib inline\n",
    "import tarfile\n",
    "from six.moves import urllib\n",
    "import seaborn as sns"
   ]
  },
  {
   "cell_type": "markdown",
   "id": "fd05b511",
   "metadata": {},
   "source": [
    "I used the pandas read function \"pd.read_csv\" to display the dataset in the notebook and saved it as df."
   ]
  },
  {
   "cell_type": "code",
   "execution_count": 3,
   "id": "b46a3114",
   "metadata": {},
   "outputs": [],
   "source": [
    "df = pd.read_csv(r\"C:\\Users\\udeez\\Downloads\\201902-fordgobike-tripdata.csv\")"
   ]
  },
  {
   "cell_type": "markdown",
   "id": "93fc900f",
   "metadata": {},
   "source": [
    "# ASSESSMENT"
   ]
  },
  {
   "cell_type": "markdown",
   "id": "ac86a198",
   "metadata": {},
   "source": [
    "I will be carrying out visual assessment and programmatic assessment."
   ]
  },
  {
   "cell_type": "markdown",
   "id": "5aff8b91",
   "metadata": {},
   "source": [
    "## 1) VISUAL ASSESSMENT"
   ]
  },
  {
   "cell_type": "markdown",
   "id": "0249146b",
   "metadata": {},
   "source": [
    "Using visual assessment, i came up with the following assessments:"
   ]
  },
  {
   "cell_type": "code",
   "execution_count": 4,
   "id": "698e9f88",
   "metadata": {},
   "outputs": [
    {
     "data": {
      "text/html": [
       "<div>\n",
       "<style scoped>\n",
       "    .dataframe tbody tr th:only-of-type {\n",
       "        vertical-align: middle;\n",
       "    }\n",
       "\n",
       "    .dataframe tbody tr th {\n",
       "        vertical-align: top;\n",
       "    }\n",
       "\n",
       "    .dataframe thead th {\n",
       "        text-align: right;\n",
       "    }\n",
       "</style>\n",
       "<table border=\"1\" class=\"dataframe\">\n",
       "  <thead>\n",
       "    <tr style=\"text-align: right;\">\n",
       "      <th></th>\n",
       "      <th>duration_sec</th>\n",
       "      <th>start_time</th>\n",
       "      <th>end_time</th>\n",
       "      <th>start_station_id</th>\n",
       "      <th>start_station_name</th>\n",
       "      <th>start_station_latitude</th>\n",
       "      <th>start_station_longitude</th>\n",
       "      <th>end_station_id</th>\n",
       "      <th>end_station_name</th>\n",
       "      <th>end_station_latitude</th>\n",
       "      <th>end_station_longitude</th>\n",
       "      <th>bike_id</th>\n",
       "      <th>user_type</th>\n",
       "      <th>member_birth_year</th>\n",
       "      <th>member_gender</th>\n",
       "      <th>bike_share_for_all_trip</th>\n",
       "    </tr>\n",
       "  </thead>\n",
       "  <tbody>\n",
       "    <tr>\n",
       "      <th>0</th>\n",
       "      <td>52185</td>\n",
       "      <td>2019-02-28 17:32:10.1450</td>\n",
       "      <td>2019-03-01 08:01:55.9750</td>\n",
       "      <td>21.0</td>\n",
       "      <td>Montgomery St BART Station (Market St at 2nd St)</td>\n",
       "      <td>37.789625</td>\n",
       "      <td>-122.400811</td>\n",
       "      <td>13.0</td>\n",
       "      <td>Commercial St at Montgomery St</td>\n",
       "      <td>37.794231</td>\n",
       "      <td>-122.402923</td>\n",
       "      <td>4902</td>\n",
       "      <td>Customer</td>\n",
       "      <td>1984.0</td>\n",
       "      <td>Male</td>\n",
       "      <td>No</td>\n",
       "    </tr>\n",
       "    <tr>\n",
       "      <th>1</th>\n",
       "      <td>42521</td>\n",
       "      <td>2019-02-28 18:53:21.7890</td>\n",
       "      <td>2019-03-01 06:42:03.0560</td>\n",
       "      <td>23.0</td>\n",
       "      <td>The Embarcadero at Steuart St</td>\n",
       "      <td>37.791464</td>\n",
       "      <td>-122.391034</td>\n",
       "      <td>81.0</td>\n",
       "      <td>Berry St at 4th St</td>\n",
       "      <td>37.775880</td>\n",
       "      <td>-122.393170</td>\n",
       "      <td>2535</td>\n",
       "      <td>Customer</td>\n",
       "      <td>NaN</td>\n",
       "      <td>NaN</td>\n",
       "      <td>No</td>\n",
       "    </tr>\n",
       "    <tr>\n",
       "      <th>2</th>\n",
       "      <td>61854</td>\n",
       "      <td>2019-02-28 12:13:13.2180</td>\n",
       "      <td>2019-03-01 05:24:08.1460</td>\n",
       "      <td>86.0</td>\n",
       "      <td>Market St at Dolores St</td>\n",
       "      <td>37.769305</td>\n",
       "      <td>-122.426826</td>\n",
       "      <td>3.0</td>\n",
       "      <td>Powell St BART Station (Market St at 4th St)</td>\n",
       "      <td>37.786375</td>\n",
       "      <td>-122.404904</td>\n",
       "      <td>5905</td>\n",
       "      <td>Customer</td>\n",
       "      <td>1972.0</td>\n",
       "      <td>Male</td>\n",
       "      <td>No</td>\n",
       "    </tr>\n",
       "    <tr>\n",
       "      <th>3</th>\n",
       "      <td>36490</td>\n",
       "      <td>2019-02-28 17:54:26.0100</td>\n",
       "      <td>2019-03-01 04:02:36.8420</td>\n",
       "      <td>375.0</td>\n",
       "      <td>Grove St at Masonic Ave</td>\n",
       "      <td>37.774836</td>\n",
       "      <td>-122.446546</td>\n",
       "      <td>70.0</td>\n",
       "      <td>Central Ave at Fell St</td>\n",
       "      <td>37.773311</td>\n",
       "      <td>-122.444293</td>\n",
       "      <td>6638</td>\n",
       "      <td>Subscriber</td>\n",
       "      <td>1989.0</td>\n",
       "      <td>Other</td>\n",
       "      <td>No</td>\n",
       "    </tr>\n",
       "    <tr>\n",
       "      <th>4</th>\n",
       "      <td>1585</td>\n",
       "      <td>2019-02-28 23:54:18.5490</td>\n",
       "      <td>2019-03-01 00:20:44.0740</td>\n",
       "      <td>7.0</td>\n",
       "      <td>Frank H Ogawa Plaza</td>\n",
       "      <td>37.804562</td>\n",
       "      <td>-122.271738</td>\n",
       "      <td>222.0</td>\n",
       "      <td>10th Ave at E 15th St</td>\n",
       "      <td>37.792714</td>\n",
       "      <td>-122.248780</td>\n",
       "      <td>4898</td>\n",
       "      <td>Subscriber</td>\n",
       "      <td>1974.0</td>\n",
       "      <td>Male</td>\n",
       "      <td>Yes</td>\n",
       "    </tr>\n",
       "    <tr>\n",
       "      <th>...</th>\n",
       "      <td>...</td>\n",
       "      <td>...</td>\n",
       "      <td>...</td>\n",
       "      <td>...</td>\n",
       "      <td>...</td>\n",
       "      <td>...</td>\n",
       "      <td>...</td>\n",
       "      <td>...</td>\n",
       "      <td>...</td>\n",
       "      <td>...</td>\n",
       "      <td>...</td>\n",
       "      <td>...</td>\n",
       "      <td>...</td>\n",
       "      <td>...</td>\n",
       "      <td>...</td>\n",
       "      <td>...</td>\n",
       "    </tr>\n",
       "    <tr>\n",
       "      <th>183407</th>\n",
       "      <td>480</td>\n",
       "      <td>2019-02-01 00:04:49.7240</td>\n",
       "      <td>2019-02-01 00:12:50.0340</td>\n",
       "      <td>27.0</td>\n",
       "      <td>Beale St at Harrison St</td>\n",
       "      <td>37.788059</td>\n",
       "      <td>-122.391865</td>\n",
       "      <td>324.0</td>\n",
       "      <td>Union Square (Powell St at Post St)</td>\n",
       "      <td>37.788300</td>\n",
       "      <td>-122.408531</td>\n",
       "      <td>4832</td>\n",
       "      <td>Subscriber</td>\n",
       "      <td>1996.0</td>\n",
       "      <td>Male</td>\n",
       "      <td>No</td>\n",
       "    </tr>\n",
       "    <tr>\n",
       "      <th>183408</th>\n",
       "      <td>313</td>\n",
       "      <td>2019-02-01 00:05:34.7440</td>\n",
       "      <td>2019-02-01 00:10:48.5020</td>\n",
       "      <td>21.0</td>\n",
       "      <td>Montgomery St BART Station (Market St at 2nd St)</td>\n",
       "      <td>37.789625</td>\n",
       "      <td>-122.400811</td>\n",
       "      <td>66.0</td>\n",
       "      <td>3rd St at Townsend St</td>\n",
       "      <td>37.778742</td>\n",
       "      <td>-122.392741</td>\n",
       "      <td>4960</td>\n",
       "      <td>Subscriber</td>\n",
       "      <td>1984.0</td>\n",
       "      <td>Male</td>\n",
       "      <td>No</td>\n",
       "    </tr>\n",
       "    <tr>\n",
       "      <th>183409</th>\n",
       "      <td>141</td>\n",
       "      <td>2019-02-01 00:06:05.5490</td>\n",
       "      <td>2019-02-01 00:08:27.2200</td>\n",
       "      <td>278.0</td>\n",
       "      <td>The Alameda at Bush St</td>\n",
       "      <td>37.331932</td>\n",
       "      <td>-121.904888</td>\n",
       "      <td>277.0</td>\n",
       "      <td>Morrison Ave at Julian St</td>\n",
       "      <td>37.333658</td>\n",
       "      <td>-121.908586</td>\n",
       "      <td>3824</td>\n",
       "      <td>Subscriber</td>\n",
       "      <td>1990.0</td>\n",
       "      <td>Male</td>\n",
       "      <td>Yes</td>\n",
       "    </tr>\n",
       "    <tr>\n",
       "      <th>183410</th>\n",
       "      <td>139</td>\n",
       "      <td>2019-02-01 00:05:34.3600</td>\n",
       "      <td>2019-02-01 00:07:54.2870</td>\n",
       "      <td>220.0</td>\n",
       "      <td>San Pablo Ave at MLK Jr Way</td>\n",
       "      <td>37.811351</td>\n",
       "      <td>-122.273422</td>\n",
       "      <td>216.0</td>\n",
       "      <td>San Pablo Ave at 27th St</td>\n",
       "      <td>37.817827</td>\n",
       "      <td>-122.275698</td>\n",
       "      <td>5095</td>\n",
       "      <td>Subscriber</td>\n",
       "      <td>1988.0</td>\n",
       "      <td>Male</td>\n",
       "      <td>No</td>\n",
       "    </tr>\n",
       "    <tr>\n",
       "      <th>183411</th>\n",
       "      <td>271</td>\n",
       "      <td>2019-02-01 00:00:20.6360</td>\n",
       "      <td>2019-02-01 00:04:52.0580</td>\n",
       "      <td>24.0</td>\n",
       "      <td>Spear St at Folsom St</td>\n",
       "      <td>37.789677</td>\n",
       "      <td>-122.390428</td>\n",
       "      <td>37.0</td>\n",
       "      <td>2nd St at Folsom St</td>\n",
       "      <td>37.785000</td>\n",
       "      <td>-122.395936</td>\n",
       "      <td>1057</td>\n",
       "      <td>Subscriber</td>\n",
       "      <td>1989.0</td>\n",
       "      <td>Male</td>\n",
       "      <td>No</td>\n",
       "    </tr>\n",
       "  </tbody>\n",
       "</table>\n",
       "<p>183412 rows × 16 columns</p>\n",
       "</div>"
      ],
      "text/plain": [
       "        duration_sec                start_time                  end_time  \\\n",
       "0              52185  2019-02-28 17:32:10.1450  2019-03-01 08:01:55.9750   \n",
       "1              42521  2019-02-28 18:53:21.7890  2019-03-01 06:42:03.0560   \n",
       "2              61854  2019-02-28 12:13:13.2180  2019-03-01 05:24:08.1460   \n",
       "3              36490  2019-02-28 17:54:26.0100  2019-03-01 04:02:36.8420   \n",
       "4               1585  2019-02-28 23:54:18.5490  2019-03-01 00:20:44.0740   \n",
       "...              ...                       ...                       ...   \n",
       "183407           480  2019-02-01 00:04:49.7240  2019-02-01 00:12:50.0340   \n",
       "183408           313  2019-02-01 00:05:34.7440  2019-02-01 00:10:48.5020   \n",
       "183409           141  2019-02-01 00:06:05.5490  2019-02-01 00:08:27.2200   \n",
       "183410           139  2019-02-01 00:05:34.3600  2019-02-01 00:07:54.2870   \n",
       "183411           271  2019-02-01 00:00:20.6360  2019-02-01 00:04:52.0580   \n",
       "\n",
       "        start_station_id                                start_station_name  \\\n",
       "0                   21.0  Montgomery St BART Station (Market St at 2nd St)   \n",
       "1                   23.0                     The Embarcadero at Steuart St   \n",
       "2                   86.0                           Market St at Dolores St   \n",
       "3                  375.0                           Grove St at Masonic Ave   \n",
       "4                    7.0                               Frank H Ogawa Plaza   \n",
       "...                  ...                                               ...   \n",
       "183407              27.0                           Beale St at Harrison St   \n",
       "183408              21.0  Montgomery St BART Station (Market St at 2nd St)   \n",
       "183409             278.0                            The Alameda at Bush St   \n",
       "183410             220.0                       San Pablo Ave at MLK Jr Way   \n",
       "183411              24.0                             Spear St at Folsom St   \n",
       "\n",
       "        start_station_latitude  start_station_longitude  end_station_id  \\\n",
       "0                    37.789625              -122.400811            13.0   \n",
       "1                    37.791464              -122.391034            81.0   \n",
       "2                    37.769305              -122.426826             3.0   \n",
       "3                    37.774836              -122.446546            70.0   \n",
       "4                    37.804562              -122.271738           222.0   \n",
       "...                        ...                      ...             ...   \n",
       "183407               37.788059              -122.391865           324.0   \n",
       "183408               37.789625              -122.400811            66.0   \n",
       "183409               37.331932              -121.904888           277.0   \n",
       "183410               37.811351              -122.273422           216.0   \n",
       "183411               37.789677              -122.390428            37.0   \n",
       "\n",
       "                                    end_station_name  end_station_latitude  \\\n",
       "0                     Commercial St at Montgomery St             37.794231   \n",
       "1                                 Berry St at 4th St             37.775880   \n",
       "2       Powell St BART Station (Market St at 4th St)             37.786375   \n",
       "3                             Central Ave at Fell St             37.773311   \n",
       "4                              10th Ave at E 15th St             37.792714   \n",
       "...                                              ...                   ...   \n",
       "183407           Union Square (Powell St at Post St)             37.788300   \n",
       "183408                         3rd St at Townsend St             37.778742   \n",
       "183409                     Morrison Ave at Julian St             37.333658   \n",
       "183410                      San Pablo Ave at 27th St             37.817827   \n",
       "183411                           2nd St at Folsom St             37.785000   \n",
       "\n",
       "        end_station_longitude  bike_id   user_type  member_birth_year  \\\n",
       "0                 -122.402923     4902    Customer             1984.0   \n",
       "1                 -122.393170     2535    Customer                NaN   \n",
       "2                 -122.404904     5905    Customer             1972.0   \n",
       "3                 -122.444293     6638  Subscriber             1989.0   \n",
       "4                 -122.248780     4898  Subscriber             1974.0   \n",
       "...                       ...      ...         ...                ...   \n",
       "183407            -122.408531     4832  Subscriber             1996.0   \n",
       "183408            -122.392741     4960  Subscriber             1984.0   \n",
       "183409            -121.908586     3824  Subscriber             1990.0   \n",
       "183410            -122.275698     5095  Subscriber             1988.0   \n",
       "183411            -122.395936     1057  Subscriber             1989.0   \n",
       "\n",
       "       member_gender bike_share_for_all_trip  \n",
       "0               Male                      No  \n",
       "1                NaN                      No  \n",
       "2               Male                      No  \n",
       "3              Other                      No  \n",
       "4               Male                     Yes  \n",
       "...              ...                     ...  \n",
       "183407          Male                      No  \n",
       "183408          Male                      No  \n",
       "183409          Male                     Yes  \n",
       "183410          Male                      No  \n",
       "183411          Male                      No  \n",
       "\n",
       "[183412 rows x 16 columns]"
      ]
     },
     "execution_count": 4,
     "metadata": {},
     "output_type": "execute_result"
    }
   ],
   "source": [
    "#To display the dataset\n",
    "df"
   ]
  },
  {
   "cell_type": "markdown",
   "id": "a6753dcf",
   "metadata": {},
   "source": [
    "## 2) PROGRAMMATIC ASSESSMENT"
   ]
  },
  {
   "cell_type": "markdown",
   "id": "1a65e030",
   "metadata": {},
   "source": [
    "I carried out a programmatic assessment also and came up with the following assessment of the dataset:"
   ]
  },
  {
   "cell_type": "code",
   "execution_count": 5,
   "id": "705d1d82",
   "metadata": {},
   "outputs": [
    {
     "name": "stdout",
     "output_type": "stream",
     "text": [
      "<class 'pandas.core.frame.DataFrame'>\n",
      "RangeIndex: 183412 entries, 0 to 183411\n",
      "Data columns (total 16 columns):\n",
      " #   Column                   Non-Null Count   Dtype  \n",
      "---  ------                   --------------   -----  \n",
      " 0   duration_sec             183412 non-null  int64  \n",
      " 1   start_time               183412 non-null  object \n",
      " 2   end_time                 183412 non-null  object \n",
      " 3   start_station_id         183215 non-null  float64\n",
      " 4   start_station_name       183215 non-null  object \n",
      " 5   start_station_latitude   183412 non-null  float64\n",
      " 6   start_station_longitude  183412 non-null  float64\n",
      " 7   end_station_id           183215 non-null  float64\n",
      " 8   end_station_name         183215 non-null  object \n",
      " 9   end_station_latitude     183412 non-null  float64\n",
      " 10  end_station_longitude    183412 non-null  float64\n",
      " 11  bike_id                  183412 non-null  int64  \n",
      " 12  user_type                183412 non-null  object \n",
      " 13  member_birth_year        175147 non-null  float64\n",
      " 14  member_gender            175147 non-null  object \n",
      " 15  bike_share_for_all_trip  183412 non-null  object \n",
      "dtypes: float64(7), int64(2), object(7)\n",
      "memory usage: 22.4+ MB\n"
     ]
    }
   ],
   "source": [
    "#To get a summarised view of the dataset\n",
    "df.info()"
   ]
  },
  {
   "cell_type": "code",
   "execution_count": 6,
   "id": "374d987c",
   "metadata": {},
   "outputs": [
    {
     "data": {
      "text/html": [
       "<div>\n",
       "<style scoped>\n",
       "    .dataframe tbody tr th:only-of-type {\n",
       "        vertical-align: middle;\n",
       "    }\n",
       "\n",
       "    .dataframe tbody tr th {\n",
       "        vertical-align: top;\n",
       "    }\n",
       "\n",
       "    .dataframe thead th {\n",
       "        text-align: right;\n",
       "    }\n",
       "</style>\n",
       "<table border=\"1\" class=\"dataframe\">\n",
       "  <thead>\n",
       "    <tr style=\"text-align: right;\">\n",
       "      <th></th>\n",
       "      <th>duration_sec</th>\n",
       "      <th>start_station_id</th>\n",
       "      <th>start_station_latitude</th>\n",
       "      <th>start_station_longitude</th>\n",
       "      <th>end_station_id</th>\n",
       "      <th>end_station_latitude</th>\n",
       "      <th>end_station_longitude</th>\n",
       "      <th>bike_id</th>\n",
       "      <th>member_birth_year</th>\n",
       "    </tr>\n",
       "  </thead>\n",
       "  <tbody>\n",
       "    <tr>\n",
       "      <th>count</th>\n",
       "      <td>183412.000000</td>\n",
       "      <td>183215.000000</td>\n",
       "      <td>183412.000000</td>\n",
       "      <td>183412.000000</td>\n",
       "      <td>183215.000000</td>\n",
       "      <td>183412.000000</td>\n",
       "      <td>183412.000000</td>\n",
       "      <td>183412.000000</td>\n",
       "      <td>175147.000000</td>\n",
       "    </tr>\n",
       "    <tr>\n",
       "      <th>mean</th>\n",
       "      <td>726.078435</td>\n",
       "      <td>138.590427</td>\n",
       "      <td>37.771223</td>\n",
       "      <td>-122.352664</td>\n",
       "      <td>136.249123</td>\n",
       "      <td>37.771427</td>\n",
       "      <td>-122.352250</td>\n",
       "      <td>4472.906375</td>\n",
       "      <td>1984.806437</td>\n",
       "    </tr>\n",
       "    <tr>\n",
       "      <th>std</th>\n",
       "      <td>1794.389780</td>\n",
       "      <td>111.778864</td>\n",
       "      <td>0.099581</td>\n",
       "      <td>0.117097</td>\n",
       "      <td>111.515131</td>\n",
       "      <td>0.099490</td>\n",
       "      <td>0.116673</td>\n",
       "      <td>1664.383394</td>\n",
       "      <td>10.116689</td>\n",
       "    </tr>\n",
       "    <tr>\n",
       "      <th>min</th>\n",
       "      <td>61.000000</td>\n",
       "      <td>3.000000</td>\n",
       "      <td>37.317298</td>\n",
       "      <td>-122.453704</td>\n",
       "      <td>3.000000</td>\n",
       "      <td>37.317298</td>\n",
       "      <td>-122.453704</td>\n",
       "      <td>11.000000</td>\n",
       "      <td>1878.000000</td>\n",
       "    </tr>\n",
       "    <tr>\n",
       "      <th>25%</th>\n",
       "      <td>325.000000</td>\n",
       "      <td>47.000000</td>\n",
       "      <td>37.770083</td>\n",
       "      <td>-122.412408</td>\n",
       "      <td>44.000000</td>\n",
       "      <td>37.770407</td>\n",
       "      <td>-122.411726</td>\n",
       "      <td>3777.000000</td>\n",
       "      <td>1980.000000</td>\n",
       "    </tr>\n",
       "    <tr>\n",
       "      <th>50%</th>\n",
       "      <td>514.000000</td>\n",
       "      <td>104.000000</td>\n",
       "      <td>37.780760</td>\n",
       "      <td>-122.398285</td>\n",
       "      <td>100.000000</td>\n",
       "      <td>37.781010</td>\n",
       "      <td>-122.398279</td>\n",
       "      <td>4958.000000</td>\n",
       "      <td>1987.000000</td>\n",
       "    </tr>\n",
       "    <tr>\n",
       "      <th>75%</th>\n",
       "      <td>796.000000</td>\n",
       "      <td>239.000000</td>\n",
       "      <td>37.797280</td>\n",
       "      <td>-122.286533</td>\n",
       "      <td>235.000000</td>\n",
       "      <td>37.797320</td>\n",
       "      <td>-122.288045</td>\n",
       "      <td>5502.000000</td>\n",
       "      <td>1992.000000</td>\n",
       "    </tr>\n",
       "    <tr>\n",
       "      <th>max</th>\n",
       "      <td>85444.000000</td>\n",
       "      <td>398.000000</td>\n",
       "      <td>37.880222</td>\n",
       "      <td>-121.874119</td>\n",
       "      <td>398.000000</td>\n",
       "      <td>37.880222</td>\n",
       "      <td>-121.874119</td>\n",
       "      <td>6645.000000</td>\n",
       "      <td>2001.000000</td>\n",
       "    </tr>\n",
       "  </tbody>\n",
       "</table>\n",
       "</div>"
      ],
      "text/plain": [
       "        duration_sec  start_station_id  start_station_latitude  \\\n",
       "count  183412.000000     183215.000000           183412.000000   \n",
       "mean      726.078435        138.590427               37.771223   \n",
       "std      1794.389780        111.778864                0.099581   \n",
       "min        61.000000          3.000000               37.317298   \n",
       "25%       325.000000         47.000000               37.770083   \n",
       "50%       514.000000        104.000000               37.780760   \n",
       "75%       796.000000        239.000000               37.797280   \n",
       "max     85444.000000        398.000000               37.880222   \n",
       "\n",
       "       start_station_longitude  end_station_id  end_station_latitude  \\\n",
       "count            183412.000000   183215.000000         183412.000000   \n",
       "mean               -122.352664      136.249123             37.771427   \n",
       "std                   0.117097      111.515131              0.099490   \n",
       "min                -122.453704        3.000000             37.317298   \n",
       "25%                -122.412408       44.000000             37.770407   \n",
       "50%                -122.398285      100.000000             37.781010   \n",
       "75%                -122.286533      235.000000             37.797320   \n",
       "max                -121.874119      398.000000             37.880222   \n",
       "\n",
       "       end_station_longitude        bike_id  member_birth_year  \n",
       "count          183412.000000  183412.000000      175147.000000  \n",
       "mean             -122.352250    4472.906375        1984.806437  \n",
       "std                 0.116673    1664.383394          10.116689  \n",
       "min              -122.453704      11.000000        1878.000000  \n",
       "25%              -122.411726    3777.000000        1980.000000  \n",
       "50%              -122.398279    4958.000000        1987.000000  \n",
       "75%              -122.288045    5502.000000        1992.000000  \n",
       "max              -121.874119    6645.000000        2001.000000  "
      ]
     },
     "execution_count": 6,
     "metadata": {},
     "output_type": "execute_result"
    }
   ],
   "source": [
    "#To get the statistical view of the dataset\n",
    "df.describe()"
   ]
  },
  {
   "cell_type": "code",
   "execution_count": 7,
   "id": "0f85f4a2",
   "metadata": {},
   "outputs": [
    {
     "data": {
      "text/plain": [
       "duration_sec                 4752\n",
       "start_time                 183401\n",
       "end_time                   183397\n",
       "start_station_id              329\n",
       "start_station_name            329\n",
       "start_station_latitude        334\n",
       "start_station_longitude       335\n",
       "end_station_id                329\n",
       "end_station_name              329\n",
       "end_station_latitude          335\n",
       "end_station_longitude         335\n",
       "bike_id                      4646\n",
       "user_type                       2\n",
       "member_birth_year              75\n",
       "member_gender                   3\n",
       "bike_share_for_all_trip         2\n",
       "dtype: int64"
      ]
     },
     "execution_count": 7,
     "metadata": {},
     "output_type": "execute_result"
    }
   ],
   "source": [
    "#To get check for unique values in the dataset\n",
    "df.nunique()"
   ]
  },
  {
   "cell_type": "code",
   "execution_count": 8,
   "id": "5a85fa6c",
   "metadata": {},
   "outputs": [
    {
     "name": "stdout",
     "output_type": "stream",
     "text": [
      "0\n"
     ]
    }
   ],
   "source": [
    "#To check for duplicated values in the dataset\n",
    "print(df.duplicated().sum())"
   ]
  },
  {
   "cell_type": "code",
   "execution_count": 9,
   "id": "bb861f5c",
   "metadata": {},
   "outputs": [
    {
     "data": {
      "text/plain": [
       "duration_sec                  0\n",
       "start_time                    0\n",
       "end_time                      0\n",
       "start_station_id            197\n",
       "start_station_name          197\n",
       "start_station_latitude        0\n",
       "start_station_longitude       0\n",
       "end_station_id              197\n",
       "end_station_name            197\n",
       "end_station_latitude          0\n",
       "end_station_longitude         0\n",
       "bike_id                       0\n",
       "user_type                     0\n",
       "member_birth_year          8265\n",
       "member_gender              8265\n",
       "bike_share_for_all_trip       0\n",
       "dtype: int64"
      ]
     },
     "execution_count": 9,
     "metadata": {},
     "output_type": "execute_result"
    }
   ],
   "source": [
    "#To check for null values in the dataset\n",
    "df.isnull().sum()"
   ]
  },
  {
   "cell_type": "code",
   "execution_count": 10,
   "id": "ae4e4d5b",
   "metadata": {},
   "outputs": [
    {
     "data": {
      "text/html": [
       "<div>\n",
       "<style scoped>\n",
       "    .dataframe tbody tr th:only-of-type {\n",
       "        vertical-align: middle;\n",
       "    }\n",
       "\n",
       "    .dataframe tbody tr th {\n",
       "        vertical-align: top;\n",
       "    }\n",
       "\n",
       "    .dataframe thead th {\n",
       "        text-align: right;\n",
       "    }\n",
       "</style>\n",
       "<table border=\"1\" class=\"dataframe\">\n",
       "  <thead>\n",
       "    <tr style=\"text-align: right;\">\n",
       "      <th></th>\n",
       "      <th>duration_sec</th>\n",
       "      <th>start_time</th>\n",
       "      <th>end_time</th>\n",
       "      <th>start_station_id</th>\n",
       "      <th>start_station_name</th>\n",
       "      <th>start_station_latitude</th>\n",
       "      <th>start_station_longitude</th>\n",
       "      <th>end_station_id</th>\n",
       "      <th>end_station_name</th>\n",
       "      <th>end_station_latitude</th>\n",
       "      <th>end_station_longitude</th>\n",
       "      <th>bike_id</th>\n",
       "      <th>user_type</th>\n",
       "      <th>member_birth_year</th>\n",
       "      <th>member_gender</th>\n",
       "      <th>bike_share_for_all_trip</th>\n",
       "    </tr>\n",
       "  </thead>\n",
       "  <tbody>\n",
       "    <tr>\n",
       "      <th>0</th>\n",
       "      <td>False</td>\n",
       "      <td>False</td>\n",
       "      <td>False</td>\n",
       "      <td>False</td>\n",
       "      <td>False</td>\n",
       "      <td>False</td>\n",
       "      <td>False</td>\n",
       "      <td>False</td>\n",
       "      <td>False</td>\n",
       "      <td>False</td>\n",
       "      <td>False</td>\n",
       "      <td>False</td>\n",
       "      <td>False</td>\n",
       "      <td>False</td>\n",
       "      <td>False</td>\n",
       "      <td>False</td>\n",
       "    </tr>\n",
       "    <tr>\n",
       "      <th>1</th>\n",
       "      <td>False</td>\n",
       "      <td>False</td>\n",
       "      <td>False</td>\n",
       "      <td>False</td>\n",
       "      <td>False</td>\n",
       "      <td>False</td>\n",
       "      <td>False</td>\n",
       "      <td>False</td>\n",
       "      <td>False</td>\n",
       "      <td>False</td>\n",
       "      <td>False</td>\n",
       "      <td>False</td>\n",
       "      <td>False</td>\n",
       "      <td>True</td>\n",
       "      <td>True</td>\n",
       "      <td>False</td>\n",
       "    </tr>\n",
       "    <tr>\n",
       "      <th>2</th>\n",
       "      <td>False</td>\n",
       "      <td>False</td>\n",
       "      <td>False</td>\n",
       "      <td>False</td>\n",
       "      <td>False</td>\n",
       "      <td>False</td>\n",
       "      <td>False</td>\n",
       "      <td>False</td>\n",
       "      <td>False</td>\n",
       "      <td>False</td>\n",
       "      <td>False</td>\n",
       "      <td>False</td>\n",
       "      <td>False</td>\n",
       "      <td>False</td>\n",
       "      <td>False</td>\n",
       "      <td>False</td>\n",
       "    </tr>\n",
       "    <tr>\n",
       "      <th>3</th>\n",
       "      <td>False</td>\n",
       "      <td>False</td>\n",
       "      <td>False</td>\n",
       "      <td>False</td>\n",
       "      <td>False</td>\n",
       "      <td>False</td>\n",
       "      <td>False</td>\n",
       "      <td>False</td>\n",
       "      <td>False</td>\n",
       "      <td>False</td>\n",
       "      <td>False</td>\n",
       "      <td>False</td>\n",
       "      <td>False</td>\n",
       "      <td>False</td>\n",
       "      <td>False</td>\n",
       "      <td>False</td>\n",
       "    </tr>\n",
       "    <tr>\n",
       "      <th>4</th>\n",
       "      <td>False</td>\n",
       "      <td>False</td>\n",
       "      <td>False</td>\n",
       "      <td>False</td>\n",
       "      <td>False</td>\n",
       "      <td>False</td>\n",
       "      <td>False</td>\n",
       "      <td>False</td>\n",
       "      <td>False</td>\n",
       "      <td>False</td>\n",
       "      <td>False</td>\n",
       "      <td>False</td>\n",
       "      <td>False</td>\n",
       "      <td>False</td>\n",
       "      <td>False</td>\n",
       "      <td>False</td>\n",
       "    </tr>\n",
       "    <tr>\n",
       "      <th>...</th>\n",
       "      <td>...</td>\n",
       "      <td>...</td>\n",
       "      <td>...</td>\n",
       "      <td>...</td>\n",
       "      <td>...</td>\n",
       "      <td>...</td>\n",
       "      <td>...</td>\n",
       "      <td>...</td>\n",
       "      <td>...</td>\n",
       "      <td>...</td>\n",
       "      <td>...</td>\n",
       "      <td>...</td>\n",
       "      <td>...</td>\n",
       "      <td>...</td>\n",
       "      <td>...</td>\n",
       "      <td>...</td>\n",
       "    </tr>\n",
       "    <tr>\n",
       "      <th>183407</th>\n",
       "      <td>False</td>\n",
       "      <td>False</td>\n",
       "      <td>False</td>\n",
       "      <td>False</td>\n",
       "      <td>False</td>\n",
       "      <td>False</td>\n",
       "      <td>False</td>\n",
       "      <td>False</td>\n",
       "      <td>False</td>\n",
       "      <td>False</td>\n",
       "      <td>False</td>\n",
       "      <td>False</td>\n",
       "      <td>False</td>\n",
       "      <td>False</td>\n",
       "      <td>False</td>\n",
       "      <td>False</td>\n",
       "    </tr>\n",
       "    <tr>\n",
       "      <th>183408</th>\n",
       "      <td>False</td>\n",
       "      <td>False</td>\n",
       "      <td>False</td>\n",
       "      <td>False</td>\n",
       "      <td>False</td>\n",
       "      <td>False</td>\n",
       "      <td>False</td>\n",
       "      <td>False</td>\n",
       "      <td>False</td>\n",
       "      <td>False</td>\n",
       "      <td>False</td>\n",
       "      <td>False</td>\n",
       "      <td>False</td>\n",
       "      <td>False</td>\n",
       "      <td>False</td>\n",
       "      <td>False</td>\n",
       "    </tr>\n",
       "    <tr>\n",
       "      <th>183409</th>\n",
       "      <td>False</td>\n",
       "      <td>False</td>\n",
       "      <td>False</td>\n",
       "      <td>False</td>\n",
       "      <td>False</td>\n",
       "      <td>False</td>\n",
       "      <td>False</td>\n",
       "      <td>False</td>\n",
       "      <td>False</td>\n",
       "      <td>False</td>\n",
       "      <td>False</td>\n",
       "      <td>False</td>\n",
       "      <td>False</td>\n",
       "      <td>False</td>\n",
       "      <td>False</td>\n",
       "      <td>False</td>\n",
       "    </tr>\n",
       "    <tr>\n",
       "      <th>183410</th>\n",
       "      <td>False</td>\n",
       "      <td>False</td>\n",
       "      <td>False</td>\n",
       "      <td>False</td>\n",
       "      <td>False</td>\n",
       "      <td>False</td>\n",
       "      <td>False</td>\n",
       "      <td>False</td>\n",
       "      <td>False</td>\n",
       "      <td>False</td>\n",
       "      <td>False</td>\n",
       "      <td>False</td>\n",
       "      <td>False</td>\n",
       "      <td>False</td>\n",
       "      <td>False</td>\n",
       "      <td>False</td>\n",
       "    </tr>\n",
       "    <tr>\n",
       "      <th>183411</th>\n",
       "      <td>False</td>\n",
       "      <td>False</td>\n",
       "      <td>False</td>\n",
       "      <td>False</td>\n",
       "      <td>False</td>\n",
       "      <td>False</td>\n",
       "      <td>False</td>\n",
       "      <td>False</td>\n",
       "      <td>False</td>\n",
       "      <td>False</td>\n",
       "      <td>False</td>\n",
       "      <td>False</td>\n",
       "      <td>False</td>\n",
       "      <td>False</td>\n",
       "      <td>False</td>\n",
       "      <td>False</td>\n",
       "    </tr>\n",
       "  </tbody>\n",
       "</table>\n",
       "<p>183412 rows × 16 columns</p>\n",
       "</div>"
      ],
      "text/plain": [
       "        duration_sec  start_time  end_time  start_station_id  \\\n",
       "0              False       False     False             False   \n",
       "1              False       False     False             False   \n",
       "2              False       False     False             False   \n",
       "3              False       False     False             False   \n",
       "4              False       False     False             False   \n",
       "...              ...         ...       ...               ...   \n",
       "183407         False       False     False             False   \n",
       "183408         False       False     False             False   \n",
       "183409         False       False     False             False   \n",
       "183410         False       False     False             False   \n",
       "183411         False       False     False             False   \n",
       "\n",
       "        start_station_name  start_station_latitude  start_station_longitude  \\\n",
       "0                    False                   False                    False   \n",
       "1                    False                   False                    False   \n",
       "2                    False                   False                    False   \n",
       "3                    False                   False                    False   \n",
       "4                    False                   False                    False   \n",
       "...                    ...                     ...                      ...   \n",
       "183407               False                   False                    False   \n",
       "183408               False                   False                    False   \n",
       "183409               False                   False                    False   \n",
       "183410               False                   False                    False   \n",
       "183411               False                   False                    False   \n",
       "\n",
       "        end_station_id  end_station_name  end_station_latitude  \\\n",
       "0                False             False                 False   \n",
       "1                False             False                 False   \n",
       "2                False             False                 False   \n",
       "3                False             False                 False   \n",
       "4                False             False                 False   \n",
       "...                ...               ...                   ...   \n",
       "183407           False             False                 False   \n",
       "183408           False             False                 False   \n",
       "183409           False             False                 False   \n",
       "183410           False             False                 False   \n",
       "183411           False             False                 False   \n",
       "\n",
       "        end_station_longitude  bike_id  user_type  member_birth_year  \\\n",
       "0                       False    False      False              False   \n",
       "1                       False    False      False               True   \n",
       "2                       False    False      False              False   \n",
       "3                       False    False      False              False   \n",
       "4                       False    False      False              False   \n",
       "...                       ...      ...        ...                ...   \n",
       "183407                  False    False      False              False   \n",
       "183408                  False    False      False              False   \n",
       "183409                  False    False      False              False   \n",
       "183410                  False    False      False              False   \n",
       "183411                  False    False      False              False   \n",
       "\n",
       "        member_gender  bike_share_for_all_trip  \n",
       "0               False                    False  \n",
       "1                True                    False  \n",
       "2               False                    False  \n",
       "3               False                    False  \n",
       "4               False                    False  \n",
       "...               ...                      ...  \n",
       "183407          False                    False  \n",
       "183408          False                    False  \n",
       "183409          False                    False  \n",
       "183410          False                    False  \n",
       "183411          False                    False  \n",
       "\n",
       "[183412 rows x 16 columns]"
      ]
     },
     "execution_count": 10,
     "metadata": {},
     "output_type": "execute_result"
    }
   ],
   "source": [
    "#To display the null values in the dataset\n",
    "df.isnull()"
   ]
  },
  {
   "cell_type": "markdown",
   "id": "6a03af79",
   "metadata": {},
   "source": [
    "# CLEAN"
   ]
  },
  {
   "cell_type": "markdown",
   "id": "739c3584",
   "metadata": {},
   "source": [
    "First, i created a copy of the original dataset to work with so as not to alter the original dataset.¶"
   ]
  },
  {
   "cell_type": "code",
   "execution_count": 11,
   "id": "b658a18f",
   "metadata": {},
   "outputs": [
    {
     "data": {
      "text/html": [
       "<div>\n",
       "<style scoped>\n",
       "    .dataframe tbody tr th:only-of-type {\n",
       "        vertical-align: middle;\n",
       "    }\n",
       "\n",
       "    .dataframe tbody tr th {\n",
       "        vertical-align: top;\n",
       "    }\n",
       "\n",
       "    .dataframe thead th {\n",
       "        text-align: right;\n",
       "    }\n",
       "</style>\n",
       "<table border=\"1\" class=\"dataframe\">\n",
       "  <thead>\n",
       "    <tr style=\"text-align: right;\">\n",
       "      <th></th>\n",
       "      <th>duration_sec</th>\n",
       "      <th>start_time</th>\n",
       "      <th>end_time</th>\n",
       "      <th>start_station_id</th>\n",
       "      <th>start_station_name</th>\n",
       "      <th>start_station_latitude</th>\n",
       "      <th>start_station_longitude</th>\n",
       "      <th>end_station_id</th>\n",
       "      <th>end_station_name</th>\n",
       "      <th>end_station_latitude</th>\n",
       "      <th>end_station_longitude</th>\n",
       "      <th>bike_id</th>\n",
       "      <th>user_type</th>\n",
       "      <th>member_birth_year</th>\n",
       "      <th>member_gender</th>\n",
       "      <th>bike_share_for_all_trip</th>\n",
       "    </tr>\n",
       "  </thead>\n",
       "  <tbody>\n",
       "    <tr>\n",
       "      <th>0</th>\n",
       "      <td>52185</td>\n",
       "      <td>2019-02-28 17:32:10.1450</td>\n",
       "      <td>2019-03-01 08:01:55.9750</td>\n",
       "      <td>21.0</td>\n",
       "      <td>Montgomery St BART Station (Market St at 2nd St)</td>\n",
       "      <td>37.789625</td>\n",
       "      <td>-122.400811</td>\n",
       "      <td>13.0</td>\n",
       "      <td>Commercial St at Montgomery St</td>\n",
       "      <td>37.794231</td>\n",
       "      <td>-122.402923</td>\n",
       "      <td>4902</td>\n",
       "      <td>Customer</td>\n",
       "      <td>1984.0</td>\n",
       "      <td>Male</td>\n",
       "      <td>No</td>\n",
       "    </tr>\n",
       "    <tr>\n",
       "      <th>1</th>\n",
       "      <td>42521</td>\n",
       "      <td>2019-02-28 18:53:21.7890</td>\n",
       "      <td>2019-03-01 06:42:03.0560</td>\n",
       "      <td>23.0</td>\n",
       "      <td>The Embarcadero at Steuart St</td>\n",
       "      <td>37.791464</td>\n",
       "      <td>-122.391034</td>\n",
       "      <td>81.0</td>\n",
       "      <td>Berry St at 4th St</td>\n",
       "      <td>37.775880</td>\n",
       "      <td>-122.393170</td>\n",
       "      <td>2535</td>\n",
       "      <td>Customer</td>\n",
       "      <td>NaN</td>\n",
       "      <td>NaN</td>\n",
       "      <td>No</td>\n",
       "    </tr>\n",
       "    <tr>\n",
       "      <th>2</th>\n",
       "      <td>61854</td>\n",
       "      <td>2019-02-28 12:13:13.2180</td>\n",
       "      <td>2019-03-01 05:24:08.1460</td>\n",
       "      <td>86.0</td>\n",
       "      <td>Market St at Dolores St</td>\n",
       "      <td>37.769305</td>\n",
       "      <td>-122.426826</td>\n",
       "      <td>3.0</td>\n",
       "      <td>Powell St BART Station (Market St at 4th St)</td>\n",
       "      <td>37.786375</td>\n",
       "      <td>-122.404904</td>\n",
       "      <td>5905</td>\n",
       "      <td>Customer</td>\n",
       "      <td>1972.0</td>\n",
       "      <td>Male</td>\n",
       "      <td>No</td>\n",
       "    </tr>\n",
       "    <tr>\n",
       "      <th>3</th>\n",
       "      <td>36490</td>\n",
       "      <td>2019-02-28 17:54:26.0100</td>\n",
       "      <td>2019-03-01 04:02:36.8420</td>\n",
       "      <td>375.0</td>\n",
       "      <td>Grove St at Masonic Ave</td>\n",
       "      <td>37.774836</td>\n",
       "      <td>-122.446546</td>\n",
       "      <td>70.0</td>\n",
       "      <td>Central Ave at Fell St</td>\n",
       "      <td>37.773311</td>\n",
       "      <td>-122.444293</td>\n",
       "      <td>6638</td>\n",
       "      <td>Subscriber</td>\n",
       "      <td>1989.0</td>\n",
       "      <td>Other</td>\n",
       "      <td>No</td>\n",
       "    </tr>\n",
       "    <tr>\n",
       "      <th>4</th>\n",
       "      <td>1585</td>\n",
       "      <td>2019-02-28 23:54:18.5490</td>\n",
       "      <td>2019-03-01 00:20:44.0740</td>\n",
       "      <td>7.0</td>\n",
       "      <td>Frank H Ogawa Plaza</td>\n",
       "      <td>37.804562</td>\n",
       "      <td>-122.271738</td>\n",
       "      <td>222.0</td>\n",
       "      <td>10th Ave at E 15th St</td>\n",
       "      <td>37.792714</td>\n",
       "      <td>-122.248780</td>\n",
       "      <td>4898</td>\n",
       "      <td>Subscriber</td>\n",
       "      <td>1974.0</td>\n",
       "      <td>Male</td>\n",
       "      <td>Yes</td>\n",
       "    </tr>\n",
       "    <tr>\n",
       "      <th>...</th>\n",
       "      <td>...</td>\n",
       "      <td>...</td>\n",
       "      <td>...</td>\n",
       "      <td>...</td>\n",
       "      <td>...</td>\n",
       "      <td>...</td>\n",
       "      <td>...</td>\n",
       "      <td>...</td>\n",
       "      <td>...</td>\n",
       "      <td>...</td>\n",
       "      <td>...</td>\n",
       "      <td>...</td>\n",
       "      <td>...</td>\n",
       "      <td>...</td>\n",
       "      <td>...</td>\n",
       "      <td>...</td>\n",
       "    </tr>\n",
       "    <tr>\n",
       "      <th>183407</th>\n",
       "      <td>480</td>\n",
       "      <td>2019-02-01 00:04:49.7240</td>\n",
       "      <td>2019-02-01 00:12:50.0340</td>\n",
       "      <td>27.0</td>\n",
       "      <td>Beale St at Harrison St</td>\n",
       "      <td>37.788059</td>\n",
       "      <td>-122.391865</td>\n",
       "      <td>324.0</td>\n",
       "      <td>Union Square (Powell St at Post St)</td>\n",
       "      <td>37.788300</td>\n",
       "      <td>-122.408531</td>\n",
       "      <td>4832</td>\n",
       "      <td>Subscriber</td>\n",
       "      <td>1996.0</td>\n",
       "      <td>Male</td>\n",
       "      <td>No</td>\n",
       "    </tr>\n",
       "    <tr>\n",
       "      <th>183408</th>\n",
       "      <td>313</td>\n",
       "      <td>2019-02-01 00:05:34.7440</td>\n",
       "      <td>2019-02-01 00:10:48.5020</td>\n",
       "      <td>21.0</td>\n",
       "      <td>Montgomery St BART Station (Market St at 2nd St)</td>\n",
       "      <td>37.789625</td>\n",
       "      <td>-122.400811</td>\n",
       "      <td>66.0</td>\n",
       "      <td>3rd St at Townsend St</td>\n",
       "      <td>37.778742</td>\n",
       "      <td>-122.392741</td>\n",
       "      <td>4960</td>\n",
       "      <td>Subscriber</td>\n",
       "      <td>1984.0</td>\n",
       "      <td>Male</td>\n",
       "      <td>No</td>\n",
       "    </tr>\n",
       "    <tr>\n",
       "      <th>183409</th>\n",
       "      <td>141</td>\n",
       "      <td>2019-02-01 00:06:05.5490</td>\n",
       "      <td>2019-02-01 00:08:27.2200</td>\n",
       "      <td>278.0</td>\n",
       "      <td>The Alameda at Bush St</td>\n",
       "      <td>37.331932</td>\n",
       "      <td>-121.904888</td>\n",
       "      <td>277.0</td>\n",
       "      <td>Morrison Ave at Julian St</td>\n",
       "      <td>37.333658</td>\n",
       "      <td>-121.908586</td>\n",
       "      <td>3824</td>\n",
       "      <td>Subscriber</td>\n",
       "      <td>1990.0</td>\n",
       "      <td>Male</td>\n",
       "      <td>Yes</td>\n",
       "    </tr>\n",
       "    <tr>\n",
       "      <th>183410</th>\n",
       "      <td>139</td>\n",
       "      <td>2019-02-01 00:05:34.3600</td>\n",
       "      <td>2019-02-01 00:07:54.2870</td>\n",
       "      <td>220.0</td>\n",
       "      <td>San Pablo Ave at MLK Jr Way</td>\n",
       "      <td>37.811351</td>\n",
       "      <td>-122.273422</td>\n",
       "      <td>216.0</td>\n",
       "      <td>San Pablo Ave at 27th St</td>\n",
       "      <td>37.817827</td>\n",
       "      <td>-122.275698</td>\n",
       "      <td>5095</td>\n",
       "      <td>Subscriber</td>\n",
       "      <td>1988.0</td>\n",
       "      <td>Male</td>\n",
       "      <td>No</td>\n",
       "    </tr>\n",
       "    <tr>\n",
       "      <th>183411</th>\n",
       "      <td>271</td>\n",
       "      <td>2019-02-01 00:00:20.6360</td>\n",
       "      <td>2019-02-01 00:04:52.0580</td>\n",
       "      <td>24.0</td>\n",
       "      <td>Spear St at Folsom St</td>\n",
       "      <td>37.789677</td>\n",
       "      <td>-122.390428</td>\n",
       "      <td>37.0</td>\n",
       "      <td>2nd St at Folsom St</td>\n",
       "      <td>37.785000</td>\n",
       "      <td>-122.395936</td>\n",
       "      <td>1057</td>\n",
       "      <td>Subscriber</td>\n",
       "      <td>1989.0</td>\n",
       "      <td>Male</td>\n",
       "      <td>No</td>\n",
       "    </tr>\n",
       "  </tbody>\n",
       "</table>\n",
       "<p>183412 rows × 16 columns</p>\n",
       "</div>"
      ],
      "text/plain": [
       "        duration_sec                start_time                  end_time  \\\n",
       "0              52185  2019-02-28 17:32:10.1450  2019-03-01 08:01:55.9750   \n",
       "1              42521  2019-02-28 18:53:21.7890  2019-03-01 06:42:03.0560   \n",
       "2              61854  2019-02-28 12:13:13.2180  2019-03-01 05:24:08.1460   \n",
       "3              36490  2019-02-28 17:54:26.0100  2019-03-01 04:02:36.8420   \n",
       "4               1585  2019-02-28 23:54:18.5490  2019-03-01 00:20:44.0740   \n",
       "...              ...                       ...                       ...   \n",
       "183407           480  2019-02-01 00:04:49.7240  2019-02-01 00:12:50.0340   \n",
       "183408           313  2019-02-01 00:05:34.7440  2019-02-01 00:10:48.5020   \n",
       "183409           141  2019-02-01 00:06:05.5490  2019-02-01 00:08:27.2200   \n",
       "183410           139  2019-02-01 00:05:34.3600  2019-02-01 00:07:54.2870   \n",
       "183411           271  2019-02-01 00:00:20.6360  2019-02-01 00:04:52.0580   \n",
       "\n",
       "        start_station_id                                start_station_name  \\\n",
       "0                   21.0  Montgomery St BART Station (Market St at 2nd St)   \n",
       "1                   23.0                     The Embarcadero at Steuart St   \n",
       "2                   86.0                           Market St at Dolores St   \n",
       "3                  375.0                           Grove St at Masonic Ave   \n",
       "4                    7.0                               Frank H Ogawa Plaza   \n",
       "...                  ...                                               ...   \n",
       "183407              27.0                           Beale St at Harrison St   \n",
       "183408              21.0  Montgomery St BART Station (Market St at 2nd St)   \n",
       "183409             278.0                            The Alameda at Bush St   \n",
       "183410             220.0                       San Pablo Ave at MLK Jr Way   \n",
       "183411              24.0                             Spear St at Folsom St   \n",
       "\n",
       "        start_station_latitude  start_station_longitude  end_station_id  \\\n",
       "0                    37.789625              -122.400811            13.0   \n",
       "1                    37.791464              -122.391034            81.0   \n",
       "2                    37.769305              -122.426826             3.0   \n",
       "3                    37.774836              -122.446546            70.0   \n",
       "4                    37.804562              -122.271738           222.0   \n",
       "...                        ...                      ...             ...   \n",
       "183407               37.788059              -122.391865           324.0   \n",
       "183408               37.789625              -122.400811            66.0   \n",
       "183409               37.331932              -121.904888           277.0   \n",
       "183410               37.811351              -122.273422           216.0   \n",
       "183411               37.789677              -122.390428            37.0   \n",
       "\n",
       "                                    end_station_name  end_station_latitude  \\\n",
       "0                     Commercial St at Montgomery St             37.794231   \n",
       "1                                 Berry St at 4th St             37.775880   \n",
       "2       Powell St BART Station (Market St at 4th St)             37.786375   \n",
       "3                             Central Ave at Fell St             37.773311   \n",
       "4                              10th Ave at E 15th St             37.792714   \n",
       "...                                              ...                   ...   \n",
       "183407           Union Square (Powell St at Post St)             37.788300   \n",
       "183408                         3rd St at Townsend St             37.778742   \n",
       "183409                     Morrison Ave at Julian St             37.333658   \n",
       "183410                      San Pablo Ave at 27th St             37.817827   \n",
       "183411                           2nd St at Folsom St             37.785000   \n",
       "\n",
       "        end_station_longitude  bike_id   user_type  member_birth_year  \\\n",
       "0                 -122.402923     4902    Customer             1984.0   \n",
       "1                 -122.393170     2535    Customer                NaN   \n",
       "2                 -122.404904     5905    Customer             1972.0   \n",
       "3                 -122.444293     6638  Subscriber             1989.0   \n",
       "4                 -122.248780     4898  Subscriber             1974.0   \n",
       "...                       ...      ...         ...                ...   \n",
       "183407            -122.408531     4832  Subscriber             1996.0   \n",
       "183408            -122.392741     4960  Subscriber             1984.0   \n",
       "183409            -121.908586     3824  Subscriber             1990.0   \n",
       "183410            -122.275698     5095  Subscriber             1988.0   \n",
       "183411            -122.395936     1057  Subscriber             1989.0   \n",
       "\n",
       "       member_gender bike_share_for_all_trip  \n",
       "0               Male                      No  \n",
       "1                NaN                      No  \n",
       "2               Male                      No  \n",
       "3              Other                      No  \n",
       "4               Male                     Yes  \n",
       "...              ...                     ...  \n",
       "183407          Male                      No  \n",
       "183408          Male                      No  \n",
       "183409          Male                     Yes  \n",
       "183410          Male                      No  \n",
       "183411          Male                      No  \n",
       "\n",
       "[183412 rows x 16 columns]"
      ]
     },
     "execution_count": 11,
     "metadata": {},
     "output_type": "execute_result"
    }
   ],
   "source": [
    "df_copy = df.copy()\n",
    "df_copy"
   ]
  },
  {
   "cell_type": "markdown",
   "id": "9dce6335",
   "metadata": {},
   "source": [
    "# PROBLEM STATEMENT\n",
    "## QUALITY ISSUES\n",
    "- start_time is represented as a string datatype instead of date-time datatype.\n",
    "- end_time is represented as a string datatype instead of date-time datatype.\n",
    "- start_station_id is represented as a float datatype but it should be represented as a string datatype because it won't be used for any arithmetic operation.\n",
    "- end_station_id is represented as a float datatype but it should be represented as a string datatype beacuse it won't be used for any arithmetic operation.\n",
    "- bike_id is represented as an integer datatype but it should be represented as a string datatype because it won't be used for any arithmetic operation.\n",
    "\n",
    "## TIDY ISSUES\n",
    "- start_station_id contains some null/missing values.\n",
    "- start_station_name contains some null/missing values.\n",
    "- member_birth_year contains some null/missing values.\n",
    "- member_gender contains some null/missing values."
   ]
  },
  {
   "cell_type": "markdown",
   "id": "a1ae1a56",
   "metadata": {},
   "source": [
    "# DEFINE\n",
    "## QUALITY ISSUES\n",
    "- Conversion of start_time and end_time to date_time datatype.\n",
    "- Conversion of start_station_id, end_station_id and bike_id to string datatype.\n",
    "\n",
    "## TIDY ISSUES\n",
    "- Drop all rows with null/missing values."
   ]
  },
  {
   "cell_type": "markdown",
   "id": "d8f5ef7a",
   "metadata": {},
   "source": [
    "## QUALITY ISSUES"
   ]
  },
  {
   "cell_type": "markdown",
   "id": "ceaaa634",
   "metadata": {},
   "source": [
    "Conversion of start_time and end_time to date_time datatype"
   ]
  },
  {
   "cell_type": "code",
   "execution_count": 12,
   "id": "ba0de5e1",
   "metadata": {},
   "outputs": [],
   "source": [
    "#Conversion of start_time from string to datetime datatype\n",
    "df_copy['start_time'] = pd.to_datetime(df_copy['start_time'], format = '%Y-%m-%d\\t%H:%M:%S.%f')"
   ]
  },
  {
   "cell_type": "code",
   "execution_count": 13,
   "id": "cfe1fea7",
   "metadata": {},
   "outputs": [
    {
     "data": {
      "text/plain": [
       "0        2019-02-28 17:32:10.145\n",
       "1        2019-02-28 18:53:21.789\n",
       "2        2019-02-28 12:13:13.218\n",
       "3        2019-02-28 17:54:26.010\n",
       "4        2019-02-28 23:54:18.549\n",
       "                   ...          \n",
       "183407   2019-02-01 00:04:49.724\n",
       "183408   2019-02-01 00:05:34.744\n",
       "183409   2019-02-01 00:06:05.549\n",
       "183410   2019-02-01 00:05:34.360\n",
       "183411   2019-02-01 00:00:20.636\n",
       "Name: start_time, Length: 183412, dtype: datetime64[ns]"
      ]
     },
     "execution_count": 13,
     "metadata": {},
     "output_type": "execute_result"
    }
   ],
   "source": [
    "#To check if the change was implement in start_time\n",
    "df_copy['start_time']"
   ]
  },
  {
   "cell_type": "markdown",
   "id": "88c52c40",
   "metadata": {},
   "source": [
    "To check the month(s) in the start_time column."
   ]
  },
  {
   "cell_type": "code",
   "execution_count": 14,
   "id": "58e63798",
   "metadata": {},
   "outputs": [
    {
     "data": {
      "text/plain": [
       "array([2], dtype=int64)"
      ]
     },
     "execution_count": 14,
     "metadata": {},
     "output_type": "execute_result"
    }
   ],
   "source": [
    "df_copy['start_time'].apply(lambda x: x.month).unique()"
   ]
  },
  {
   "cell_type": "code",
   "execution_count": 15,
   "id": "f69093d6",
   "metadata": {},
   "outputs": [],
   "source": [
    "#Creating a function to get the month in the start_time column\n",
    "def get_month(date):\n",
    "    return date.month"
   ]
  },
  {
   "cell_type": "code",
   "execution_count": 16,
   "id": "dfcf72ec",
   "metadata": {},
   "outputs": [
    {
     "data": {
      "text/plain": [
       "0         2\n",
       "1         2\n",
       "2         2\n",
       "3         2\n",
       "4         2\n",
       "         ..\n",
       "183407    2\n",
       "183408    2\n",
       "183409    2\n",
       "183410    2\n",
       "183411    2\n",
       "Name: start_time, Length: 183412, dtype: int64"
      ]
     },
     "execution_count": 16,
     "metadata": {},
     "output_type": "execute_result"
    }
   ],
   "source": [
    "df_copy['start_time'].apply(get_month)"
   ]
  },
  {
   "cell_type": "code",
   "execution_count": 17,
   "id": "d4bf400a",
   "metadata": {},
   "outputs": [],
   "source": [
    "#Conversion of end_time from string to datetime datatype\n",
    "df_copy['end_time'] = pd.to_datetime(df_copy['end_time'], format = '%Y-%m-%d\\t%H:%M:%S.%f')"
   ]
  },
  {
   "cell_type": "code",
   "execution_count": 18,
   "id": "c01662bf",
   "metadata": {},
   "outputs": [
    {
     "data": {
      "text/plain": [
       "0        2019-03-01 08:01:55.975\n",
       "1        2019-03-01 06:42:03.056\n",
       "2        2019-03-01 05:24:08.146\n",
       "3        2019-03-01 04:02:36.842\n",
       "4        2019-03-01 00:20:44.074\n",
       "                   ...          \n",
       "183407   2019-02-01 00:12:50.034\n",
       "183408   2019-02-01 00:10:48.502\n",
       "183409   2019-02-01 00:08:27.220\n",
       "183410   2019-02-01 00:07:54.287\n",
       "183411   2019-02-01 00:04:52.058\n",
       "Name: end_time, Length: 183412, dtype: datetime64[ns]"
      ]
     },
     "execution_count": 18,
     "metadata": {},
     "output_type": "execute_result"
    }
   ],
   "source": [
    "#To check if the change was implemented\n",
    "df_copy['end_time']"
   ]
  },
  {
   "cell_type": "markdown",
   "id": "491c50fe",
   "metadata": {},
   "source": [
    "To check the month(s) in the end_time column."
   ]
  },
  {
   "cell_type": "code",
   "execution_count": 19,
   "id": "a3bbb883",
   "metadata": {},
   "outputs": [
    {
     "data": {
      "text/plain": [
       "array([3, 2], dtype=int64)"
      ]
     },
     "execution_count": 19,
     "metadata": {},
     "output_type": "execute_result"
    }
   ],
   "source": [
    "df_copy['end_time'].apply(lambda x: x.month).unique()"
   ]
  },
  {
   "cell_type": "code",
   "execution_count": 20,
   "id": "0fa232e5",
   "metadata": {},
   "outputs": [],
   "source": [
    "#Creating a function to get the month in the end_time column\n",
    "def get_month(date):\n",
    "    return date.month"
   ]
  },
  {
   "cell_type": "code",
   "execution_count": 21,
   "id": "73472926",
   "metadata": {},
   "outputs": [
    {
     "data": {
      "text/plain": [
       "0         3\n",
       "1         3\n",
       "2         3\n",
       "3         3\n",
       "4         3\n",
       "         ..\n",
       "183407    2\n",
       "183408    2\n",
       "183409    2\n",
       "183410    2\n",
       "183411    2\n",
       "Name: end_time, Length: 183412, dtype: int64"
      ]
     },
     "execution_count": 21,
     "metadata": {},
     "output_type": "execute_result"
    }
   ],
   "source": [
    "df_copy['end_time'].apply(get_month)"
   ]
  },
  {
   "cell_type": "markdown",
   "id": "d0d69cf9",
   "metadata": {},
   "source": [
    "Conversion of start_station_id, end_station_id and bike_id to string datatype."
   ]
  },
  {
   "cell_type": "code",
   "execution_count": 22,
   "id": "0eb734af",
   "metadata": {},
   "outputs": [],
   "source": [
    "df_copy['start_station_id'] = df_copy['start_station_id'].astype(str)"
   ]
  },
  {
   "cell_type": "code",
   "execution_count": 23,
   "id": "9ef83448",
   "metadata": {},
   "outputs": [],
   "source": [
    "df_copy['end_station_id'] = df_copy['end_station_id'].astype(str)"
   ]
  },
  {
   "cell_type": "code",
   "execution_count": 24,
   "id": "c5c9e3a5",
   "metadata": {},
   "outputs": [],
   "source": [
    "df_copy['bike_id'] = df_copy['bike_id'].astype(str)"
   ]
  },
  {
   "cell_type": "markdown",
   "id": "e8a2798d",
   "metadata": {},
   "source": [
    "# TIDINESS ISSUES"
   ]
  },
  {
   "cell_type": "markdown",
   "id": "f8b14478",
   "metadata": {},
   "source": [
    "Drop all rows with null/missing values."
   ]
  },
  {
   "cell_type": "code",
   "execution_count": 25,
   "id": "27e19836",
   "metadata": {},
   "outputs": [],
   "source": [
    "df_copy= df_copy[df_copy.start_station_id.notnull()]"
   ]
  },
  {
   "cell_type": "code",
   "execution_count": 26,
   "id": "8c6c1302",
   "metadata": {},
   "outputs": [],
   "source": [
    "df_copy = df_copy[df_copy.start_station_name.notnull()]"
   ]
  },
  {
   "cell_type": "code",
   "execution_count": 27,
   "id": "7d4b01ae",
   "metadata": {},
   "outputs": [],
   "source": [
    "df_copy = df_copy[df_copy.end_station_id.notnull()]"
   ]
  },
  {
   "cell_type": "code",
   "execution_count": 28,
   "id": "d236e52d",
   "metadata": {},
   "outputs": [],
   "source": [
    "df_copy = df_copy[df_copy.end_station_name.notnull()]"
   ]
  },
  {
   "cell_type": "code",
   "execution_count": 29,
   "id": "b8bb186a",
   "metadata": {},
   "outputs": [],
   "source": [
    "df_copy = df_copy[df_copy.member_birth_year.notnull()]"
   ]
  },
  {
   "cell_type": "code",
   "execution_count": 30,
   "id": "830ebd3d",
   "metadata": {},
   "outputs": [],
   "source": [
    "df_copy = df_copy[df_copy.member_gender.notnull()]"
   ]
  },
  {
   "cell_type": "markdown",
   "id": "a73816a0",
   "metadata": {},
   "source": [
    "# TEST"
   ]
  },
  {
   "cell_type": "markdown",
   "id": "1e0e3c5c",
   "metadata": {},
   "source": [
    "To check that all cleaning acts have been implemented."
   ]
  },
  {
   "cell_type": "code",
   "execution_count": 31,
   "id": "4288b471",
   "metadata": {},
   "outputs": [
    {
     "name": "stdout",
     "output_type": "stream",
     "text": [
      "<class 'pandas.core.frame.DataFrame'>\n",
      "Int64Index: 174952 entries, 0 to 183411\n",
      "Data columns (total 16 columns):\n",
      " #   Column                   Non-Null Count   Dtype         \n",
      "---  ------                   --------------   -----         \n",
      " 0   duration_sec             174952 non-null  int64         \n",
      " 1   start_time               174952 non-null  datetime64[ns]\n",
      " 2   end_time                 174952 non-null  datetime64[ns]\n",
      " 3   start_station_id         174952 non-null  object        \n",
      " 4   start_station_name       174952 non-null  object        \n",
      " 5   start_station_latitude   174952 non-null  float64       \n",
      " 6   start_station_longitude  174952 non-null  float64       \n",
      " 7   end_station_id           174952 non-null  object        \n",
      " 8   end_station_name         174952 non-null  object        \n",
      " 9   end_station_latitude     174952 non-null  float64       \n",
      " 10  end_station_longitude    174952 non-null  float64       \n",
      " 11  bike_id                  174952 non-null  object        \n",
      " 12  user_type                174952 non-null  object        \n",
      " 13  member_birth_year        174952 non-null  float64       \n",
      " 14  member_gender            174952 non-null  object        \n",
      " 15  bike_share_for_all_trip  174952 non-null  object        \n",
      "dtypes: datetime64[ns](2), float64(5), int64(1), object(8)\n",
      "memory usage: 22.7+ MB\n"
     ]
    }
   ],
   "source": [
    "df_copy.info()"
   ]
  },
  {
   "cell_type": "markdown",
   "id": "8d4d92e2",
   "metadata": {},
   "source": [
    "# VISUALIZATION"
   ]
  },
  {
   "cell_type": "markdown",
   "id": "485fa0d9",
   "metadata": {},
   "source": [
    "## QUESTIONS AND INSIGHTS"
   ]
  },
  {
   "cell_type": "markdown",
   "id": "e9b69628",
   "metadata": {},
   "source": [
    "### UNIVARIATE VISUALIZATION"
   ]
  },
  {
   "cell_type": "code",
   "execution_count": 32,
   "id": "98b1a17d",
   "metadata": {},
   "outputs": [],
   "source": [
    "#A function for my bar plots in my visualization\n",
    "def countPlot(dataframe, xVar, color):\n",
    "    plt.figure(figsize = [8, 6])\n",
    "    sns.countplot(data = dataframe, x = xVar, color = color);\n",
    "    plt.title(f'A values count of {xVar} distribution', fontsize = 15, fontweight = 'bold')\n",
    "    plt.xlabel(xVar.title(), fontsize = 10, fontweight = 'bold')\n",
    "    plt.ylabel('Count'.title(), fontsize = 10, fontweight = 'bold')\n",
    "    plt.show();"
   ]
  },
  {
   "cell_type": "code",
   "execution_count": 33,
   "id": "dd933c4c",
   "metadata": {},
   "outputs": [],
   "source": [
    "#A function for my histogram plots in my visualization\n",
    "def myHistPlot(dataframe, xVar):\n",
    "    plt.figure(figsize = [8, 6])\n",
    "    dataframe[xVar].hist()\n",
    "    plt.title(f'A histogram showing {xVar} distribution', fontsize=15, fontweight='bold')\n",
    "    plt.xlabel(xVar)\n",
    "    plt.ylabel('frequency')\n",
    "    plt.show();"
   ]
  },
  {
   "cell_type": "code",
   "execution_count": 34,
   "id": "e95efd45",
   "metadata": {},
   "outputs": [],
   "source": [
    "#A function for my pie plots in my visualization\n",
    "def myPiePlot(dataframe, xVar):\n",
    "    labels = df_copy[xVar].value_counts().index\n",
    "    plt.pie(dataframe[xVar].value_counts(), autopct='%1.1f%%', labels = labels)\n",
    "    plt.title(f'A pie chart showing {xVar} distribution', fontsize=15, fontweight='bold')\n",
    "    plt.legend(loc=(1.3,0.5));"
   ]
  },
  {
   "cell_type": "markdown",
   "id": "c81f3e19",
   "metadata": {},
   "source": [
    "QUESTION 1: How males, females and other genders users are registered on this platform?"
   ]
  },
  {
   "cell_type": "code",
   "execution_count": 35,
   "id": "e5995330",
   "metadata": {},
   "outputs": [
    {
     "data": {
      "text/plain": [
       "Male      130500\n",
       "Female     40805\n",
       "Other       3647\n",
       "Name: member_gender, dtype: int64"
      ]
     },
     "execution_count": 35,
     "metadata": {},
     "output_type": "execute_result"
    }
   ],
   "source": [
    "#To get the value counts of the member gender\n",
    "df_copy['member_gender'].value_counts()"
   ]
  },
  {
   "cell_type": "markdown",
   "id": "fad21cb2",
   "metadata": {},
   "source": [
    "OBSERVATION: There are 130500 males, 40805 females and 3647 other genders in the member_gender column."
   ]
  },
  {
   "cell_type": "markdown",
   "id": "eb15b273",
   "metadata": {},
   "source": [
    "QUESTION 2: Which gender has the highest number of registered users?"
   ]
  },
  {
   "cell_type": "code",
   "execution_count": 36,
   "id": "92f2a66b",
   "metadata": {},
   "outputs": [
    {
     "data": {
      "image/png": "[encoded data removed]",
      "text/plain": [
       "<Figure size 432x288 with 1 Axes>"
      ]
     },
     "metadata": {},
     "output_type": "display_data"
    }
   ],
   "source": [
    "#Plotting the value counts of the member gender in a pie chart to visualize the proportions of each gender.\n",
    "myPiePlot(dataframe = df_copy, xVar = 'member_gender')"
   ]
  },
  {
   "cell_type": "markdown",
   "id": "0ab64efa",
   "metadata": {},
   "source": [
    "OBSERVATION: The male gender has the highest number of registered users."
   ]
  },
  {
   "cell_type": "markdown",
   "id": "081beae7",
   "metadata": {},
   "source": [
    "QUESTION 3: What are age grades of the users registered on this platform?"
   ]
  },
  {
   "cell_type": "code",
   "execution_count": 37,
   "id": "17406c9b",
   "metadata": {},
   "outputs": [
    {
     "data": {
      "text/plain": [
       "1988.0    10214\n",
       "1993.0     9323\n",
       "1989.0     8967\n",
       "1990.0     8640\n",
       "1991.0     8484\n",
       "          ...  \n",
       "1928.0        1\n",
       "1878.0        1\n",
       "1930.0        1\n",
       "1910.0        1\n",
       "1927.0        1\n",
       "Name: member_birth_year, Length: 75, dtype: int64"
      ]
     },
     "execution_count": 37,
     "metadata": {},
     "output_type": "execute_result"
    }
   ],
   "source": [
    "#To get the value counts of member_birth_year\n",
    "df_copy['member_birth_year'].value_counts()"
   ]
  },
  {
   "cell_type": "code",
   "execution_count": 38,
   "id": "de652232",
   "metadata": {},
   "outputs": [],
   "source": [
    "#Creating a function to rename columns \n",
    "def rename_column(old_name, new_name):\n",
    "    df_copy.rename(columns={old_name:new_name}, inplace=True)"
   ]
  },
  {
   "cell_type": "code",
   "execution_count": 39,
   "id": "72b50451",
   "metadata": {},
   "outputs": [],
   "source": [
    "#converting member_birth_year to member_age\n",
    "rename_column('member_birth_year','member_age')\n",
    "\n",
    "#finding the difference between the start_time of the current year and member_birth_year to get the member_age\n",
    "df_copy.member_age = df_copy.start_time.dt.year - df_copy.member_age"
   ]
  },
  {
   "cell_type": "code",
   "execution_count": 40,
   "id": "091ba264",
   "metadata": {},
   "outputs": [
    {
     "data": {
      "text/plain": [
       "0         35.0\n",
       "2         47.0\n",
       "3         30.0\n",
       "4         45.0\n",
       "5         60.0\n",
       "          ... \n",
       "183407    23.0\n",
       "183408    35.0\n",
       "183409    29.0\n",
       "183410    31.0\n",
       "183411    30.0\n",
       "Name: member_age, Length: 174952, dtype: float64"
      ]
     },
     "execution_count": 40,
     "metadata": {},
     "output_type": "execute_result"
    }
   ],
   "source": [
    "df_copy.member_age"
   ]
  },
  {
   "cell_type": "code",
   "execution_count": 41,
   "id": "de747ce5",
   "metadata": {},
   "outputs": [
    {
     "data": {
      "image/png": "[encoded data removed]",
      "text/plain": [
       "<Figure size 576x432 with 1 Axes>"
      ]
     },
     "metadata": {
      "needs_background": "light"
     },
     "output_type": "display_data"
    }
   ],
   "source": [
    "#Representing the distribution of member_age in a histogram\n",
    "myHistPlot(dataframe = df_copy, xVar = 'member_age')"
   ]
  },
  {
   "cell_type": "code",
   "execution_count": 42,
   "id": "75c5bc74",
   "metadata": {},
   "outputs": [
    {
     "data": {
      "text/plain": [
       "0         35.0\n",
       "2         47.0\n",
       "3         30.0\n",
       "4         45.0\n",
       "5         60.0\n",
       "          ... \n",
       "183407    23.0\n",
       "183408    35.0\n",
       "183409    29.0\n",
       "183410    31.0\n",
       "183411    30.0\n",
       "Name: member_age, Length: 174952, dtype: float64"
      ]
     },
     "execution_count": 42,
     "metadata": {},
     "output_type": "execute_result"
    }
   ],
   "source": [
    "df_copy['member_age']"
   ]
  },
  {
   "cell_type": "markdown",
   "id": "8090d3a9",
   "metadata": {},
   "source": [
    "For more emphasis, i created a plot to show the age bracket of users registered on the platform."
   ]
  },
  {
   "cell_type": "code",
   "execution_count": 43,
   "id": "dadf2b13",
   "metadata": {},
   "outputs": [],
   "source": [
    "df_copy['age_bracket'] = pd.cut(x=df_copy['member_age'], bins=[10, 20, 30, 40, 50, 60, 70, 80, 90, 100])\n",
    "order = df_copy['age_bracket'].value_counts().index"
   ]
  },
  {
   "cell_type": "code",
   "execution_count": 44,
   "id": "3df1e374",
   "metadata": {
    "scrolled": false
   },
   "outputs": [
    {
     "data": {
      "image/png": "[encoded data removed]",
      "text/plain": [
       "<Figure size 576x432 with 1 Axes>"
      ]
     },
     "metadata": {
      "needs_background": "light"
     },
     "output_type": "display_data"
    }
   ],
   "source": [
    "countPlot(dataframe = df_copy, xVar = 'age_bracket', color = 'red')"
   ]
  },
  {
   "cell_type": "code",
   "execution_count": 45,
   "id": "f167e737",
   "metadata": {},
   "outputs": [
    {
     "data": {
      "text/html": [
       "<div>\n",
       "<style scoped>\n",
       "    .dataframe tbody tr th:only-of-type {\n",
       "        vertical-align: middle;\n",
       "    }\n",
       "\n",
       "    .dataframe tbody tr th {\n",
       "        vertical-align: top;\n",
       "    }\n",
       "\n",
       "    .dataframe thead th {\n",
       "        text-align: right;\n",
       "    }\n",
       "</style>\n",
       "<table border=\"1\" class=\"dataframe\">\n",
       "  <thead>\n",
       "    <tr style=\"text-align: right;\">\n",
       "      <th></th>\n",
       "      <th>member_age</th>\n",
       "      <th>age_bracket</th>\n",
       "    </tr>\n",
       "  </thead>\n",
       "  <tbody>\n",
       "    <tr>\n",
       "      <th>0</th>\n",
       "      <td>35.0</td>\n",
       "      <td>(30, 40]</td>\n",
       "    </tr>\n",
       "    <tr>\n",
       "      <th>2</th>\n",
       "      <td>47.0</td>\n",
       "      <td>(40, 50]</td>\n",
       "    </tr>\n",
       "    <tr>\n",
       "      <th>3</th>\n",
       "      <td>30.0</td>\n",
       "      <td>(20, 30]</td>\n",
       "    </tr>\n",
       "    <tr>\n",
       "      <th>4</th>\n",
       "      <td>45.0</td>\n",
       "      <td>(40, 50]</td>\n",
       "    </tr>\n",
       "    <tr>\n",
       "      <th>5</th>\n",
       "      <td>60.0</td>\n",
       "      <td>(50, 60]</td>\n",
       "    </tr>\n",
       "    <tr>\n",
       "      <th>...</th>\n",
       "      <td>...</td>\n",
       "      <td>...</td>\n",
       "    </tr>\n",
       "    <tr>\n",
       "      <th>183407</th>\n",
       "      <td>23.0</td>\n",
       "      <td>(20, 30]</td>\n",
       "    </tr>\n",
       "    <tr>\n",
       "      <th>183408</th>\n",
       "      <td>35.0</td>\n",
       "      <td>(30, 40]</td>\n",
       "    </tr>\n",
       "    <tr>\n",
       "      <th>183409</th>\n",
       "      <td>29.0</td>\n",
       "      <td>(20, 30]</td>\n",
       "    </tr>\n",
       "    <tr>\n",
       "      <th>183410</th>\n",
       "      <td>31.0</td>\n",
       "      <td>(30, 40]</td>\n",
       "    </tr>\n",
       "    <tr>\n",
       "      <th>183411</th>\n",
       "      <td>30.0</td>\n",
       "      <td>(20, 30]</td>\n",
       "    </tr>\n",
       "  </tbody>\n",
       "</table>\n",
       "<p>174952 rows × 2 columns</p>\n",
       "</div>"
      ],
      "text/plain": [
       "        member_age age_bracket\n",
       "0             35.0    (30, 40]\n",
       "2             47.0    (40, 50]\n",
       "3             30.0    (20, 30]\n",
       "4             45.0    (40, 50]\n",
       "5             60.0    (50, 60]\n",
       "...            ...         ...\n",
       "183407        23.0    (20, 30]\n",
       "183408        35.0    (30, 40]\n",
       "183409        29.0    (20, 30]\n",
       "183410        31.0    (30, 40]\n",
       "183411        30.0    (20, 30]\n",
       "\n",
       "[174952 rows x 2 columns]"
      ]
     },
     "execution_count": 45,
     "metadata": {},
     "output_type": "execute_result"
    }
   ],
   "source": [
    "df_copy[['member_age', 'age_bracket']]"
   ]
  },
  {
   "cell_type": "markdown",
   "id": "c729ea23",
   "metadata": {},
   "source": [
    "OBSERVATION: The age grade of registered users ranges from age 20 to age 90."
   ]
  },
  {
   "cell_type": "markdown",
   "id": "da4b9e88",
   "metadata": {},
   "source": [
    "QUESTION 4: How many of the registered users are suscribers or customers?"
   ]
  },
  {
   "cell_type": "code",
   "execution_count": 46,
   "id": "e23f297b",
   "metadata": {},
   "outputs": [
    {
     "data": {
      "text/plain": [
       "Subscriber    158386\n",
       "Customer       16566\n",
       "Name: user_type, dtype: int64"
      ]
     },
     "execution_count": 46,
     "metadata": {},
     "output_type": "execute_result"
    }
   ],
   "source": [
    "df_copy['user_type'].value_counts()"
   ]
  },
  {
   "cell_type": "markdown",
   "id": "b418f966",
   "metadata": {},
   "source": [
    "OBSERVATION: There are 158386 subscribers and 16566 customers registered users."
   ]
  },
  {
   "cell_type": "markdown",
   "id": "06118086",
   "metadata": {},
   "source": [
    "QUESTION 5: Which one of the user types has the highest distribution?"
   ]
  },
  {
   "cell_type": "code",
   "execution_count": 47,
   "id": "f3c801c3",
   "metadata": {},
   "outputs": [
    {
     "data": {
      "image/png": "[encoded data removed]",
      "text/plain": [
       "<Figure size 432x288 with 1 Axes>"
      ]
     },
     "metadata": {},
     "output_type": "display_data"
    }
   ],
   "source": [
    "myPiePlot(dataframe = df_copy, xVar = 'user_type')"
   ]
  },
  {
   "cell_type": "markdown",
   "id": "e207d7dc",
   "metadata": {},
   "source": [
    "OBSERVATION: Subscribers have the highest user type distribution."
   ]
  },
  {
   "cell_type": "markdown",
   "id": "37a5fc6c",
   "metadata": {},
   "source": [
    "QUESTION 6: Were users more open to bike sharing for all trips?"
   ]
  },
  {
   "cell_type": "code",
   "execution_count": 48,
   "id": "c7e19ffc",
   "metadata": {},
   "outputs": [
    {
     "data": {
      "image/png": "[encoded data removed]",
      "text/plain": [
       "<Figure size 576x432 with 1 Axes>"
      ]
     },
     "metadata": {
      "needs_background": "light"
     },
     "output_type": "display_data"
    }
   ],
   "source": [
    "countPlot(dataframe = df_copy, xVar = 'bike_share_for_all_trip', color = 'blue')"
   ]
  },
  {
   "cell_type": "markdown",
   "id": "c2c607cf",
   "metadata": {},
   "source": [
    "OBSERVATION: No, users were not open to sharing of bikes for all trips."
   ]
  },
  {
   "cell_type": "markdown",
   "id": "da85d3c0",
   "metadata": {},
   "source": [
    "In my next set of plots, i want to find the my top ten and least ten for the number of trips in the start_station and end_station. In other to do this more efficiently, i decided to write a function for both stations to get visuals which would enable me achieve my goal."
   ]
  },
  {
   "cell_type": "code",
   "execution_count": 49,
   "id": "a1f0aabb",
   "metadata": {},
   "outputs": [],
   "source": [
    "#A function for my top ten bar chart plots \n",
    "def myTopTenPlots(dataframe, xVar):\n",
    "    dataframe[[xVar]].value_counts().head(10).sort_values(ascending = True).plot(kind = 'barh')\n",
    "    plt.title(f'A horizontal bar chart showing {xVar}', fontsize=15, fontweight='bold')\n",
    "    plt.xlabel('Frequency')\n",
    "    plt.ylabel(xVar);"
   ]
  },
  {
   "cell_type": "code",
   "execution_count": 50,
   "id": "8295636c",
   "metadata": {},
   "outputs": [],
   "source": [
    "#A function for my least ten bar chart plots\n",
    "def myLeastTenPlots(dataframe, xVar):\n",
    "    dataframe[[xVar]].value_counts().head(10).sort_values(ascending = True).plot(kind = 'barh')\n",
    "    plt.title(f'A horizontal bar chart showing {xVar}', fontsize=15, fontweight='bold')\n",
    "    plt.xlabel('Frequency')\n",
    "    plt.ylabel(xVar);"
   ]
  },
  {
   "cell_type": "markdown",
   "id": "f4548cd5",
   "metadata": {},
   "source": [
    "QUESTION 7: What start station had the highest number of trips?"
   ]
  },
  {
   "cell_type": "code",
   "execution_count": 51,
   "id": "eaafbe1b",
   "metadata": {},
   "outputs": [
    {
     "data": {
      "image/png": "[encoded data removed]",
      "text/plain": [
       "<Figure size 432x288 with 1 Axes>"
      ]
     },
     "metadata": {
      "needs_background": "light"
     },
     "output_type": "display_data"
    }
   ],
   "source": [
    "myTopTenPlots(dataframe = df_copy, xVar = 'start_station_name')"
   ]
  },
  {
   "cell_type": "markdown",
   "id": "97c3fc00",
   "metadata": {},
   "source": [
    "OBSERVATION: 'Market St at 10th Street' had the highest number of trips from start_station."
   ]
  },
  {
   "cell_type": "markdown",
   "id": "c8a62d3d",
   "metadata": {},
   "source": [
    "QUESTION 8: What start station had the lowest number of trips?"
   ]
  },
  {
   "cell_type": "code",
   "execution_count": 52,
   "id": "a5ebfad6",
   "metadata": {},
   "outputs": [
    {
     "data": {
      "image/png": "[encoded data removed]",
      "text/plain": [
       "<Figure size 432x288 with 1 Axes>"
      ]
     },
     "metadata": {
      "needs_background": "light"
     },
     "output_type": "display_data"
    }
   ],
   "source": [
    "myLeastTenPlots(dataframe = df_copy, xVar = 'start_station_name')"
   ]
  },
  {
   "cell_type": "markdown",
   "id": "1e1083e6",
   "metadata": {},
   "source": [
    "OBSERVATION: '16th St Depot' had the lowest number of trips from start_station."
   ]
  },
  {
   "cell_type": "markdown",
   "id": "672d6148",
   "metadata": {},
   "source": [
    "QUESTION 9: What end station had the highest number of trips?"
   ]
  },
  {
   "cell_type": "code",
   "execution_count": 53,
   "id": "b30e1e11",
   "metadata": {},
   "outputs": [
    {
     "data": {
      "image/png": "[encoded data removed]",
      "text/plain": [
       "<Figure size 432x288 with 1 Axes>"
      ]
     },
     "metadata": {
      "needs_background": "light"
     },
     "output_type": "display_data"
    }
   ],
   "source": [
    "myTopTenPlots(dataframe = df_copy, xVar = 'end_station_name')"
   ]
  },
  {
   "cell_type": "markdown",
   "id": "96403205",
   "metadata": {},
   "source": [
    "OBSERVATION: 'San Francisco Caltrain Station 2(Townsend St at 4th St)' had the highest number of trips to the end_station."
   ]
  },
  {
   "cell_type": "markdown",
   "id": "87580b46",
   "metadata": {},
   "source": [
    "QUESTION 10: What end station had the lowest number of trips?"
   ]
  },
  {
   "cell_type": "code",
   "execution_count": 54,
   "id": "c4d330ab",
   "metadata": {},
   "outputs": [
    {
     "data": {
      "image/png": "[encoded data removed]",
      "text/plain": [
       "<Figure size 432x288 with 1 Axes>"
      ]
     },
     "metadata": {
      "needs_background": "light"
     },
     "output_type": "display_data"
    }
   ],
   "source": [
    "myLeastTenPlots(dataframe = df_copy, xVar = 'end_station_name')"
   ]
  },
  {
   "cell_type": "markdown",
   "id": "7d3f4657",
   "metadata": {},
   "source": [
    "OBSERVATION: 'Willow St at Vine St' had the lowest number of trips to the end_station."
   ]
  },
  {
   "cell_type": "markdown",
   "id": "bc989a38",
   "metadata": {},
   "source": [
    "QUESTION 11: What day of the week had the highest and lowest engagement of users?"
   ]
  },
  {
   "cell_type": "code",
   "execution_count": 55,
   "id": "da27b33c",
   "metadata": {},
   "outputs": [
    {
     "data": {
      "text/plain": [
       "0         Thursday\n",
       "2         Thursday\n",
       "3         Thursday\n",
       "4         Thursday\n",
       "5         Thursday\n",
       "            ...   \n",
       "183407      Friday\n",
       "183408      Friday\n",
       "183409      Friday\n",
       "183410      Friday\n",
       "183411      Friday\n",
       "Name: days, Length: 174952, dtype: object"
      ]
     },
     "execution_count": 55,
     "metadata": {},
     "output_type": "execute_result"
    }
   ],
   "source": [
    "# extract day of the week to 'day_of_week' column\n",
    "df_copy['days']= pd.to_datetime(df_copy.start_time).dt.strftime('%A')\n",
    "# check column\n",
    "df_copy['days']"
   ]
  },
  {
   "cell_type": "code",
   "execution_count": 56,
   "id": "302a83db",
   "metadata": {},
   "outputs": [
    {
     "data": {
      "image/png": "[encoded data removed]",
      "text/plain": [
       "<Figure size 576x360 with 1 Axes>"
      ]
     },
     "metadata": {
      "needs_background": "light"
     },
     "output_type": "display_data"
    }
   ],
   "source": [
    "fig, ax = plt.subplots(nrows=1, ncols=1, figsize=(8, 5))\n",
    "ax.set_xlim(left=0, right=100)\n",
    "order= ['Sunday', 'Monday', 'Tuesday', 'Wednesday', 'Thursday', 'Friday', 'Saturday']\n",
    "sns.countplot(data=df_copy, x='days', order=order, color='blue')\n",
    "plt.title('A bar chart showing the engagements in a week', fontsize=15, fontweight='bold')\n",
    "plt.xlabel('Days')\n",
    "plt.ylabel('Frequency');"
   ]
  },
  {
   "cell_type": "markdown",
   "id": "cc57e6ad",
   "metadata": {},
   "source": [
    "OBSERVATION: Thursday had the highest engagement and Saturday had the lowest engagement at the establishment."
   ]
  },
  {
   "cell_type": "markdown",
   "id": "1b76c1d8",
   "metadata": {},
   "source": [
    "QUESTION 12: What period of a day in a week had the highest engagement of users?"
   ]
  },
  {
   "cell_type": "code",
   "execution_count": 57,
   "id": "ac1e68d5",
   "metadata": {},
   "outputs": [
    {
     "data": {
      "text/plain": [
       "0         PM\n",
       "2         PM\n",
       "3         PM\n",
       "4         PM\n",
       "5         PM\n",
       "          ..\n",
       "183407    AM\n",
       "183408    AM\n",
       "183409    AM\n",
       "183410    AM\n",
       "183411    AM\n",
       "Name: period_of_day, Length: 174952, dtype: object"
      ]
     },
     "execution_count": 57,
     "metadata": {},
     "output_type": "execute_result"
    }
   ],
   "source": [
    "# extract am or pm and store in new column\n",
    "df_copy['period_of_day']=pd.to_datetime(df_copy.start_time).dt.strftime('%p')\n",
    "# check column\n",
    "df_copy.period_of_day"
   ]
  },
  {
   "cell_type": "code",
   "execution_count": 58,
   "id": "0762e949",
   "metadata": {},
   "outputs": [
    {
     "data": {
      "image/png": "[encoded data removed]",
      "text/plain": [
       "<Figure size 576x432 with 1 Axes>"
      ]
     },
     "metadata": {
      "needs_background": "light"
     },
     "output_type": "display_data"
    }
   ],
   "source": [
    "countPlot(dataframe = df_copy, xVar = 'period_of_day', color = 'blue')"
   ]
  },
  {
   "cell_type": "markdown",
   "id": "313d158d",
   "metadata": {},
   "source": [
    "OBSERVATION: There was more engagement of users at PM and lower engagement of users at AM."
   ]
  },
  {
   "cell_type": "markdown",
   "id": "16b12713",
   "metadata": {},
   "source": [
    "# BIVARIATE VISUALIZATION"
   ]
  },
  {
   "cell_type": "markdown",
   "id": "5277c0e2",
   "metadata": {},
   "source": [
    "QUESTION 13: What age grade registered on this platform had the longest ride time?"
   ]
  },
  {
   "cell_type": "code",
   "execution_count": 59,
   "id": "77d68feb",
   "metadata": {},
   "outputs": [
    {
     "data": {
      "image/png": "[encoded data removed]",
      "text/plain": [
       "<Figure size 576x432 with 1 Axes>"
      ]
     },
     "metadata": {
      "needs_background": "light"
     },
     "output_type": "display_data"
    }
   ],
   "source": [
    "plt.figure(figsize=[8,6])\n",
    "sns.regplot(data=df_copy,x='member_age', y='duration_sec', fit_reg= False, scatter_kws={'alpha':1/4});\n",
    "plt.yscale('log')\n",
    "plt.xlabel('User Age')\n",
    "plt.ylabel('Time of Ride');\n",
    "plt.title('A scatter plot showing ride times of different age grades', fontsize=15, fontweight='bold');"
   ]
  },
  {
   "cell_type": "markdown",
   "id": "9ff6ab9e",
   "metadata": {},
   "source": [
    "OBSERVATION: Ages 20 to about 70 had more ride time as compared to older users."
   ]
  },
  {
   "cell_type": "markdown",
   "id": "ac1a3e8c",
   "metadata": {},
   "source": [
    "QUESTION 14: What is the gender distribution of the subscriber and customer?"
   ]
  },
  {
   "cell_type": "code",
   "execution_count": 60,
   "id": "fe6e77f8",
   "metadata": {},
   "outputs": [
    {
     "data": {
      "text/plain": [
       "user_type   member_gender\n",
       "Subscriber  Male             119007\n",
       "            Female            36182\n",
       "Customer    Male              11493\n",
       "            Female             4623\n",
       "Subscriber  Other              3197\n",
       "Customer    Other               450\n",
       "dtype: int64"
      ]
     },
     "execution_count": 60,
     "metadata": {},
     "output_type": "execute_result"
    }
   ],
   "source": [
    "#getting the value counts of each genders of the each user type\n",
    "df_copy[['user_type', 'member_gender']].value_counts()"
   ]
  },
  {
   "cell_type": "code",
   "execution_count": 61,
   "id": "3a76109c",
   "metadata": {},
   "outputs": [
    {
     "data": {
      "image/png": "[encoded data removed]",
      "text/plain": [
       "<Figure size 432x288 with 1 Axes>"
      ]
     },
     "metadata": {
      "needs_background": "light"
     },
     "output_type": "display_data"
    }
   ],
   "source": [
    "#horizontal bar plot to show the relationship between user type and member gender\n",
    "df_copy[['user_type', 'member_gender']].value_counts().plot(kind='barh')\n",
    "plt.title('A horizontal bar chart showing gender distribution of subscriber and customer', fontsize=15, fontweight='bold')\n",
    "plt.xlabel('Frequency')\n",
    "plt.ylabel('User Type, Member Gender')\n",
    "plt.show();"
   ]
  },
  {
   "cell_type": "code",
   "execution_count": 62,
   "id": "6cf6d1f0",
   "metadata": {},
   "outputs": [],
   "source": [
    "#A function for my clustered bar plots in my visualization\n",
    "def countPlot(dataframe, xVar, yVar):\n",
    "    plt.figure(figsize = [8, 6])\n",
    "    sns.countplot(data = dataframe, x = xVar, hue = yVar);\n",
    "    plt.title(f'A values count of {xVar} distribution', fontsize = 15, fontweight = 'bold')\n",
    "    plt.xlabel(xVar.title(), fontsize = 10, fontweight = 'bold')\n",
    "    plt.ylabel('Count'.title(), fontsize = 10, fontweight = 'bold')\n",
    "    plt.show();"
   ]
  },
  {
   "cell_type": "code",
   "execution_count": 63,
   "id": "6289c260",
   "metadata": {},
   "outputs": [
    {
     "data": {
      "image/png": "[encoded data removed]",
      "text/plain": [
       "<Figure size 576x432 with 1 Axes>"
      ]
     },
     "metadata": {
      "needs_background": "light"
     },
     "output_type": "display_data"
    }
   ],
   "source": [
    "countPlot(dataframe = df_copy, xVar = 'member_gender', yVar = 'user_type')"
   ]
  },
  {
   "cell_type": "markdown",
   "id": "3bce8adf",
   "metadata": {},
   "source": [
    "OBSERVATION: For subscribers, there were 119007 males, 36182 females and 3197 others gender. while for customers, there were 11493 males, 4623 females and 450 others gender."
   ]
  },
  {
   "cell_type": "markdown",
   "id": "02be5334",
   "metadata": {},
   "source": [
    "QUESTION 15: What is the age bracket of each of the user type?"
   ]
  },
  {
   "cell_type": "code",
   "execution_count": 64,
   "id": "2605cd22",
   "metadata": {},
   "outputs": [
    {
     "data": {
      "image/png": "[encoded data removed]",
      "text/plain": [
       "<Figure size 576x432 with 1 Axes>"
      ]
     },
     "metadata": {
      "needs_background": "light"
     },
     "output_type": "display_data"
    }
   ],
   "source": [
    "countPlot(dataframe = df_copy, xVar = 'age_bracket', yVar = 'user_type')"
   ]
  },
  {
   "cell_type": "markdown",
   "id": "cb2b16b7",
   "metadata": {},
   "source": [
    "OBSERVATION: The age bracket of each user majorly falls between age 20 to 40."
   ]
  },
  {
   "cell_type": "markdown",
   "id": "109d0954",
   "metadata": {},
   "source": [
    "QUESTION 16: What is the age distribution of each gender?"
   ]
  },
  {
   "cell_type": "code",
   "execution_count": 65,
   "id": "698311ba",
   "metadata": {},
   "outputs": [
    {
     "data": {
      "image/png": "[encoded data removed]",
      "text/plain": [
       "<Figure size 720x576 with 1 Axes>"
      ]
     },
     "metadata": {
      "needs_background": "light"
     },
     "output_type": "display_data"
    }
   ],
   "source": [
    "#A histogram showing the age distribution across all genders\n",
    "plt.figure(figsize=[10,8])\n",
    "sns.histplot(x='member_age', data=df_copy, hue='member_gender', kde=True)\n",
    "plt.title('A histogram showing age distribution of each gender', fontsize=15, fontweight='bold')\n",
    "plt.xlabel('Age')\n",
    "plt.ylabel('Frequency');"
   ]
  },
  {
   "cell_type": "markdown",
   "id": "71110534",
   "metadata": {},
   "source": [
    "OBSERVATION: It can be seen that for all member gender, majority fell within the ages of 20 - 40."
   ]
  },
  {
   "cell_type": "markdown",
   "id": "5af3e61a",
   "metadata": {},
   "source": [
    "# MULTIVARIATE VISUALIZATION"
   ]
  },
  {
   "cell_type": "markdown",
   "id": "3e37d730",
   "metadata": {},
   "source": [
    "QUESTION 17: What is the age distribution of each user type across each gender?\n",
    "- Here i want to see the relationship between the member_gender, user_type, and member_age."
   ]
  },
  {
   "cell_type": "code",
   "execution_count": 66,
   "id": "b719a7a2",
   "metadata": {
    "scrolled": true
   },
   "outputs": [
    {
     "data": {
      "image/png": "[encoded data removed]",
      "text/plain": [
       "<Figure size 864x288 with 3 Axes>"
      ]
     },
     "metadata": {
      "needs_background": "light"
     },
     "output_type": "display_data"
    }
   ],
   "source": [
    "#A box plot showing the distribution of the user types of each members genders, across the members ages\n",
    "g = sns.FacetGrid(data = df_copy, col = 'member_gender', height = 4)\n",
    "g.map(sns.boxplot, 'user_type', 'member_age')\n",
    "sns.set_style(\"whitegrid\");"
   ]
  },
  {
   "cell_type": "markdown",
   "id": "bd260a8a",
   "metadata": {},
   "source": [
    "OBSERVATION:\n",
    "- For each user type across each gender, subscribers and customers for the male gender have relatively the same distribution, with the male customers having more outliers as compared to subscribers.\n",
    "- subscribers for the other gender have higher distribution compared to customer for the other gender, with customers having more outliers as compared to the subscribers.\n",
    "- subscribers and customers for the female gender have relatively the same distribution, with subscriber having more outliers as compared to the customers."
   ]
  },
  {
   "cell_type": "markdown",
   "id": "3c6c806a",
   "metadata": {},
   "source": [
    "QUESTION 18: What is the relationship between the user types, members ages and members genders?"
   ]
  },
  {
   "cell_type": "code",
   "execution_count": 67,
   "id": "cd054fb6",
   "metadata": {},
   "outputs": [
    {
     "data": {
      "image/png": "[encoded data removed]",
      "text/plain": [
       "<Figure size 540x540 with 12 Axes>"
      ]
     },
     "metadata": {},
     "output_type": "display_data"
    }
   ],
   "source": [
    "# A pair plot showing the relationship between the user type, members ages and the members genders\n",
    "sns.pairplot(df_copy, vars = [\"user_type\", \"member_age\", \"member_gender\"])\n",
    "plt.show();"
   ]
  },
  {
   "cell_type": "markdown",
   "id": "02c58b0b",
   "metadata": {},
   "source": [
    "OBSERVATION:\n",
    "- Most of the subscribers fall between the ages of 20 to 100 years as compared to the customers that fall between the ages of 20 to 90.\n",
    "- Most of the female gender fall between the ages of 20 to 80 as compared to the male gender that fall between the ages of 20 to 100 and other gender 20 to 60."
   ]
  },
  {
   "cell_type": "code",
   "execution_count": 68,
   "id": "b3068efb",
   "metadata": {},
   "outputs": [
    {
     "data": {
      "text/plain": [
       "Subscriber    158386\n",
       "Customer       16566\n",
       "Name: user_type, dtype: int64"
      ]
     },
     "execution_count": 68,
     "metadata": {},
     "output_type": "execute_result"
    }
   ],
   "source": [
    "df_copy['user_type'].value_counts()"
   ]
  },
  {
   "cell_type": "markdown",
   "id": "9c0a96a6",
   "metadata": {},
   "source": [
    "QUESTION 19: What bracket was more open to bike sharing in all trips?"
   ]
  },
  {
   "cell_type": "code",
   "execution_count": 69,
   "id": "f9e76a4b",
   "metadata": {},
   "outputs": [
    {
     "data": {
      "image/png": "[encoded data removed]",
      "text/plain": [
       "<Figure size 360x360 with 6 Axes>"
      ]
     },
     "metadata": {},
     "output_type": "display_data"
    }
   ],
   "source": [
    "sns.pairplot(df_copy, vars = [ \"member_age\", \"bike_share_for_all_trip\"])\n",
    "plt.show();"
   ]
  },
  {
   "cell_type": "markdown",
   "id": "6636a7e1",
   "metadata": {},
   "source": [
    "OBSERVATION:\n",
    "- Users that opted for a bike share for all trips fall between the ages of 20 to 80, as compared to those that chose not to share ride whose ages fall between 20 - 100. It can be said that older people from the ages 80 to 100 and above were not comfortable sharing their bike rides."
   ]
  },
  {
   "cell_type": "markdown",
   "id": "859e95e1",
   "metadata": {},
   "source": [
    "### INSIGHTS: RELATIONSHIPS OBSERVED\n",
    "- Majority of registered users fell under the ages of 20 to 50 years.\n",
    "- Thursdays had the highest users activity and Saturday had the least.\n",
    "- There were more users activity at PM and lesser users at AM.\n",
    "- There were more registered male gender for all user types as compared to other genders.\n",
    "- There were more older subscribers compared to customers.\n",
    "- The male gender has older people as compared to the female and other gender.\n",
    "- People from ages 80 to above 100 didn't like the idea of sharing a bike in all trips."
   ]
  },
  {
   "cell_type": "code",
   "execution_count": 70,
   "id": "b658c0eb",
   "metadata": {},
   "outputs": [],
   "source": [
    "#Saving the new dataset to a csv file\n",
    "df_copy.to_csv(\"clean-fordgobike-tripdata.csv\", index=False)"
   ]
  },
  {
   "cell_type": "code",
   "execution_count": 71,
   "id": "5102250c",
   "metadata": {},
   "outputs": [],
   "source": [
    "#Check if it was properly saved\n",
    "#data = pd.read_csv(\"clean-fordgobike-tripdata.csv\")\n",
    "#data"
   ]
  }
 ],
 "metadata": {
  "kernelspec": {
   "display_name": "Python 3 (ipykernel)",
   "language": "python",
   "name": "python3"
  },
  "language_info": {
   "codemirror_mode": {
    "name": "ipython",
    "version": 3
   },
   "file_extension": ".py",
   "mimetype": "text/x-python",
   "name": "python",
   "nbconvert_exporter": "python",
   "pygments_lexer": "ipython3",
   "version": "3.9.7"
  }
 },
 "nbformat": 4,
 "nbformat_minor": 5
}
